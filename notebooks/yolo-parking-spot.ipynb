{
 "cells": [
  {
   "cell_type": "code",
   "execution_count": 5,
   "metadata": {},
   "outputs": [],
   "source": [
    "import sys\n",
    "sys.path.append('../')"
   ]
  },
  {
   "cell_type": "code",
   "execution_count": 6,
   "metadata": {},
   "outputs": [
    {
     "name": "stdout",
     "output_type": "stream",
     "text": [
      "Processed 14 images\n"
     ]
    }
   ],
   "source": [
    "from utils.functions import process_images\n",
    "\n",
    "# Specify the folder path containing the images and annotations\n",
    "folder_path = '../data/imgs/occupied'\n",
    "\n",
    "# Specify the output folder path\n",
    "output_folder = '../result/imgs/occupied_with_boxes'\n",
    "\n",
    "process_images(folder_path, output_folder, highlighted_cars=True)"
   ]
  },
  {
   "cell_type": "code",
   "execution_count": 7,
   "metadata": {},
   "outputs": [
    {
     "name": "stdout",
     "output_type": "stream",
     "text": [
      "Processed 9 images\n"
     ]
    }
   ],
   "source": [
    "# Specify the folder path containing the images and annotations\n",
    "folder_path = '../data/imgs/empty'\n",
    "\n",
    "# Specify the output folder path\n",
    "output_folder = '../result/imgs/empty_with_boxes'\n",
    "\n",
    "process_images(folder_path, output_folder, highlighted_cars=True)"
   ]
  }
 ],
 "metadata": {
  "kernelspec": {
   "display_name": "env",
   "language": "python",
   "name": "python3"
  },
  "language_info": {
   "codemirror_mode": {
    "name": "ipython",
    "version": 3
   },
   "file_extension": ".py",
   "mimetype": "text/x-python",
   "name": "python",
   "nbconvert_exporter": "python",
   "pygments_lexer": "ipython3",
   "version": "3.10.11"
  },
  "orig_nbformat": 4
 },
 "nbformat": 4,
 "nbformat_minor": 2
}
