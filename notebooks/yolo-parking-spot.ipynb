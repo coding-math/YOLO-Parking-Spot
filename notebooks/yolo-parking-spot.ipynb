{
 "cells": [
  {
   "cell_type": "markdown",
   "metadata": {},
   "source": [
    "# <div align=\"center\">YOLO Parking Spot  🚗🅿️</div>\n",
    "<hr>"
   ]
  },
  {
   "cell_type": "markdown",
   "metadata": {},
   "source": [
    "### Authors\n",
    "- #### [Matheus Silva](https://www.github.com/matheuxito)\n",
    "- #### [Marcos Lucas](https://www.github.com/lmarcosz)"
   ]
  },
  {
   "cell_type": "markdown",
   "metadata": {},
   "source": [
    "### In this notebook, you can assess the performance of the models in prediction and determine if they have achieved satisfactory results\n",
    "\n",
    "- [Processing the parking lot images](#section-1)\n",
    "    - [Without YOLO](#without-yolo)\n",
    "    - [YOLOv5](#yolov5-model)\n",
    "        - [Trained YOLOv5n](#my-yolov5n)\n",
    "        - [Trained YOLOv5s](#my-yolov5s)\n",
    "    - [YOLOv8](#yolov8-model)\n",
    "        - [Trained YOLOv8n](#my-yolov8n)\n",
    "        - [Trained YOLOv8s](#my-yolov8s)\n",
    "    - [Custom model](#custom-model)\n",
    "- [Comparing the Models](#section-2)\n",
    "    - [Size Comparison](#size)\n",
    "    - [Parameters Comparison](#params)\n",
    "    - [GFLOPs Comparison](#gflops)\n",
    "    - [Precision and Recall Comparison](#precision-recall)\n",
    "    - [mAP Comparison](#map)\n",
    "- [Comparing the Results](#section-3)\n",
    "- [Conclusion](#conclusion)\n"
   ]
  },
  {
   "cell_type": "code",
   "execution_count": 1,
   "metadata": {},
   "outputs": [],
   "source": [
    "import pandas as pd\n",
    "import sys\n",
    "import os\n",
    "\n",
    "# Add the path to the utils folder to the system path\n",
    "if os.path.basename(os.getcwd()) == 'notebooks':\n",
    "    sys.path.append('../')\n",
    "\n",
    "from utils.functions import process_images, get_results_df, mean_df\n",
    "from utils.functions import plot_model_size, plot_model_params, plot_precision_recall, plot_mAP, save_plots\n",
    "\n",
    "# Get current working directory\n",
    "repo_path = os.path.dirname(os.getcwd())"
   ]
  },
  {
   "cell_type": "markdown",
   "metadata": {},
   "source": [
    "First of all, let's get the model summaries from the \"models\" folder."
   ]
  },
  {
   "cell_type": "code",
   "execution_count": 2,
   "metadata": {},
   "outputs": [
    {
     "data": {
      "text/html": [
       "<div>\n",
       "<style scoped>\n",
       "    .dataframe tbody tr th:only-of-type {\n",
       "        vertical-align: middle;\n",
       "    }\n",
       "\n",
       "    .dataframe tbody tr th {\n",
       "        vertical-align: top;\n",
       "    }\n",
       "\n",
       "    .dataframe thead th {\n",
       "        text-align: right;\n",
       "    }\n",
       "</style>\n",
       "<table border=\"1\" class=\"dataframe\">\n",
       "  <thead>\n",
       "    <tr style=\"text-align: right;\">\n",
       "      <th></th>\n",
       "      <th>Model</th>\n",
       "      <th>Model Size (MB)</th>\n",
       "      <th>Layers</th>\n",
       "      <th>Parameters</th>\n",
       "      <th>Precision</th>\n",
       "      <th>Recall</th>\n",
       "      <th>mAP0-50</th>\n",
       "      <th>mAP50-95</th>\n",
       "    </tr>\n",
       "  </thead>\n",
       "  <tbody>\n",
       "    <tr>\n",
       "      <th>4</th>\n",
       "      <td>yolov8n_fold_0</td>\n",
       "      <td>6.5</td>\n",
       "      <td>168</td>\n",
       "      <td>3005843</td>\n",
       "      <td>0.992</td>\n",
       "      <td>0.995</td>\n",
       "      <td>0.994</td>\n",
       "      <td>0.790</td>\n",
       "    </tr>\n",
       "    <tr>\n",
       "      <th>2</th>\n",
       "      <td>yolov5s_fold_0</td>\n",
       "      <td>15.3</td>\n",
       "      <td>157</td>\n",
       "      <td>7012822</td>\n",
       "      <td>0.999</td>\n",
       "      <td>1.000</td>\n",
       "      <td>0.995</td>\n",
       "      <td>0.762</td>\n",
       "    </tr>\n",
       "    <tr>\n",
       "      <th>0</th>\n",
       "      <td>yolov5n_fold_0</td>\n",
       "      <td>4.8</td>\n",
       "      <td>157</td>\n",
       "      <td>1760518</td>\n",
       "      <td>0.994</td>\n",
       "      <td>0.995</td>\n",
       "      <td>0.995</td>\n",
       "      <td>0.738</td>\n",
       "    </tr>\n",
       "    <tr>\n",
       "      <th>6</th>\n",
       "      <td>yolov8s_fold_0</td>\n",
       "      <td>22.7</td>\n",
       "      <td>168</td>\n",
       "      <td>11125971</td>\n",
       "      <td>0.964</td>\n",
       "      <td>0.974</td>\n",
       "      <td>0.987</td>\n",
       "      <td>0.732</td>\n",
       "    </tr>\n",
       "    <tr>\n",
       "      <th>5</th>\n",
       "      <td>yolov8n_fold_1</td>\n",
       "      <td>6.5</td>\n",
       "      <td>168</td>\n",
       "      <td>3005843</td>\n",
       "      <td>0.974</td>\n",
       "      <td>0.966</td>\n",
       "      <td>0.992</td>\n",
       "      <td>0.720</td>\n",
       "    </tr>\n",
       "    <tr>\n",
       "      <th>3</th>\n",
       "      <td>yolov5s_fold_1</td>\n",
       "      <td>15.3</td>\n",
       "      <td>157</td>\n",
       "      <td>7012822</td>\n",
       "      <td>0.996</td>\n",
       "      <td>0.997</td>\n",
       "      <td>0.995</td>\n",
       "      <td>0.712</td>\n",
       "    </tr>\n",
       "    <tr>\n",
       "      <th>7</th>\n",
       "      <td>yolov8s_fold_1</td>\n",
       "      <td>22.7</td>\n",
       "      <td>168</td>\n",
       "      <td>11125971</td>\n",
       "      <td>0.987</td>\n",
       "      <td>0.964</td>\n",
       "      <td>0.993</td>\n",
       "      <td>0.706</td>\n",
       "    </tr>\n",
       "    <tr>\n",
       "      <th>1</th>\n",
       "      <td>yolov5n_fold_1</td>\n",
       "      <td>4.8</td>\n",
       "      <td>157</td>\n",
       "      <td>1760518</td>\n",
       "      <td>0.990</td>\n",
       "      <td>0.997</td>\n",
       "      <td>0.995</td>\n",
       "      <td>0.685</td>\n",
       "    </tr>\n",
       "  </tbody>\n",
       "</table>\n",
       "</div>"
      ],
      "text/plain": [
       "            Model  Model Size (MB)  Layers  Parameters  Precision  Recall  \\\n",
       "4  yolov8n_fold_0              6.5     168     3005843      0.992   0.995   \n",
       "2  yolov5s_fold_0             15.3     157     7012822      0.999   1.000   \n",
       "0  yolov5n_fold_0              4.8     157     1760518      0.994   0.995   \n",
       "6  yolov8s_fold_0             22.7     168    11125971      0.964   0.974   \n",
       "5  yolov8n_fold_1              6.5     168     3005843      0.974   0.966   \n",
       "3  yolov5s_fold_1             15.3     157     7012822      0.996   0.997   \n",
       "7  yolov8s_fold_1             22.7     168    11125971      0.987   0.964   \n",
       "1  yolov5n_fold_1              4.8     157     1760518      0.990   0.997   \n",
       "\n",
       "   mAP0-50  mAP50-95  \n",
       "4    0.994     0.790  \n",
       "2    0.995     0.762  \n",
       "0    0.995     0.738  \n",
       "6    0.987     0.732  \n",
       "5    0.992     0.720  \n",
       "3    0.995     0.712  \n",
       "7    0.993     0.706  \n",
       "1    0.995     0.685  "
      ]
     },
     "execution_count": 2,
     "metadata": {},
     "output_type": "execute_result"
    }
   ],
   "source": [
    "# Path to the CSV file\n",
    "filename = f'{repo_path}/models/models_summary.csv'\n",
    "\n",
    "# Import the CSV file into a pandas DataFrame\n",
    "models_summary = pd.read_csv(filename, thousands='.', decimal=',')\n",
    "\n",
    "# Show the models summary\n",
    "models_summary.sort_values(by=['mAP50-95'], ascending=False).head(8)"
   ]
  },
  {
   "cell_type": "markdown",
   "metadata": {},
   "source": [
    "Since the models with fold 0 achieved better results in precision, recall, and mAP, we will use them to generate the processed images."
   ]
  },
  {
   "cell_type": "markdown",
   "metadata": {},
   "source": [
    "## <div id=\"section-1\">Processing the parking lot images</div>\n",
    "<hr>"
   ]
  },
  {
   "cell_type": "markdown",
   "metadata": {},
   "source": [
    "### <div id=\"without-yolo\">Without YOLO</div>\n",
    "The following cell generates the images that we will be using to compare the custom models later on."
   ]
  },
  {
   "cell_type": "code",
   "execution_count": 3,
   "metadata": {},
   "outputs": [
    {
     "name": "stdout",
     "output_type": "stream",
     "text": [
      "Processing images...\n",
      "Processed 23 images ✅\n"
     ]
    },
    {
     "data": {
      "text/html": [
       "<div>\n",
       "<style scoped>\n",
       "    .dataframe tbody tr th:only-of-type {\n",
       "        vertical-align: middle;\n",
       "    }\n",
       "\n",
       "    .dataframe tbody tr th {\n",
       "        vertical-align: top;\n",
       "    }\n",
       "\n",
       "    .dataframe thead th {\n",
       "        text-align: right;\n",
       "    }\n",
       "</style>\n",
       "<table border=\"1\" class=\"dataframe\">\n",
       "  <thead>\n",
       "    <tr style=\"text-align: right;\">\n",
       "      <th></th>\n",
       "      <th>Image File</th>\n",
       "      <th>Disabled parking spots</th>\n",
       "      <th>Parking spots</th>\n",
       "      <th>Cars</th>\n",
       "      <th>Empty disabled parking spots</th>\n",
       "      <th>Occupied disabled parking spots</th>\n",
       "      <th>Empty parking spots</th>\n",
       "      <th>Occupied parking spots</th>\n",
       "      <th>Cars in transit or parked in non-parking spots</th>\n",
       "    </tr>\n",
       "  </thead>\n",
       "  <tbody>\n",
       "    <tr>\n",
       "      <th>0</th>\n",
       "      <td>empty_set1_60m_1.jpg</td>\n",
       "      <td>20</td>\n",
       "      <td>70</td>\n",
       "      <td>1</td>\n",
       "      <td>20</td>\n",
       "      <td>0</td>\n",
       "      <td>69</td>\n",
       "      <td>1</td>\n",
       "      <td>0</td>\n",
       "    </tr>\n",
       "    <tr>\n",
       "      <th>1</th>\n",
       "      <td>empty_set1_60m_2.jpg</td>\n",
       "      <td>20</td>\n",
       "      <td>70</td>\n",
       "      <td>1</td>\n",
       "      <td>20</td>\n",
       "      <td>0</td>\n",
       "      <td>69</td>\n",
       "      <td>1</td>\n",
       "      <td>0</td>\n",
       "    </tr>\n",
       "    <tr>\n",
       "      <th>2</th>\n",
       "      <td>empty_set1_65m_1.jpg</td>\n",
       "      <td>22</td>\n",
       "      <td>77</td>\n",
       "      <td>0</td>\n",
       "      <td>22</td>\n",
       "      <td>0</td>\n",
       "      <td>77</td>\n",
       "      <td>0</td>\n",
       "      <td>0</td>\n",
       "    </tr>\n",
       "    <tr>\n",
       "      <th>3</th>\n",
       "      <td>empty_set1_70m_2.jpg</td>\n",
       "      <td>22</td>\n",
       "      <td>77</td>\n",
       "      <td>1</td>\n",
       "      <td>22</td>\n",
       "      <td>0</td>\n",
       "      <td>76</td>\n",
       "      <td>1</td>\n",
       "      <td>0</td>\n",
       "    </tr>\n",
       "    <tr>\n",
       "      <th>4</th>\n",
       "      <td>empty_set1_75m_1.jpg</td>\n",
       "      <td>22</td>\n",
       "      <td>77</td>\n",
       "      <td>0</td>\n",
       "      <td>22</td>\n",
       "      <td>0</td>\n",
       "      <td>77</td>\n",
       "      <td>0</td>\n",
       "      <td>0</td>\n",
       "    </tr>\n",
       "  </tbody>\n",
       "</table>\n",
       "</div>"
      ],
      "text/plain": [
       "             Image File  Disabled parking spots  Parking spots  Cars  \\\n",
       "0  empty_set1_60m_1.jpg                      20             70     1   \n",
       "1  empty_set1_60m_2.jpg                      20             70     1   \n",
       "2  empty_set1_65m_1.jpg                      22             77     0   \n",
       "3  empty_set1_70m_2.jpg                      22             77     1   \n",
       "4  empty_set1_75m_1.jpg                      22             77     0   \n",
       "\n",
       "   Empty disabled parking spots  Occupied disabled parking spots  \\\n",
       "0                            20                                0   \n",
       "1                            20                                0   \n",
       "2                            22                                0   \n",
       "3                            22                                0   \n",
       "4                            22                                0   \n",
       "\n",
       "   Empty parking spots  Occupied parking spots  \\\n",
       "0                   69                       1   \n",
       "1                   69                       1   \n",
       "2                   77                       0   \n",
       "3                   76                       1   \n",
       "4                   77                       0   \n",
       "\n",
       "   Cars in transit or parked in non-parking spots  \n",
       "0                                               0  \n",
       "1                                               0  \n",
       "2                                               0  \n",
       "3                                               0  \n",
       "4                                               0  "
      ]
     },
     "execution_count": 3,
     "metadata": {},
     "output_type": "execute_result"
    }
   ],
   "source": [
    "# Specify the folder path containing the images and annotations\n",
    "data_path = os.path.join(repo_path, 'data')\n",
    "\n",
    "# Specify the output folder path\n",
    "output_folder = os.path.join(repo_path, 'results/without_yolo/')\n",
    "\n",
    "# process_images returns a dataframe containing the results\n",
    "without_yolo_results = process_images(data_path, output_folder, highlighted_cars=True)\n",
    "without_yolo_results.head(5) # Show the results for the first 5 images"
   ]
  },
  {
   "cell_type": "markdown",
   "metadata": {},
   "source": [
    "### <div id=\"yolov5-model\">YOLOv5</div>\n",
    "The following cell will generate the processed images with the labels provided by the YOLOv5 model's prediction."
   ]
  },
  {
   "cell_type": "markdown",
   "metadata": {},
   "source": [
    "#### <div id=\"my-yolov5n\">Predictions provided by my trained YOLOv5n model"
   ]
  },
  {
   "cell_type": "code",
   "execution_count": 4,
   "metadata": {},
   "outputs": [
    {
     "name": "stdout",
     "output_type": "stream",
     "text": [
      "Using labels from c:\\Users\\mathe\\Documents\\Projects\\YOLO-Parking-Spot\\results/yolov5n_fold_0/labels/\n",
      "Processing images...\n",
      "Processed 23 images ✅\n"
     ]
    },
    {
     "data": {
      "text/html": [
       "<div>\n",
       "<style scoped>\n",
       "    .dataframe tbody tr th:only-of-type {\n",
       "        vertical-align: middle;\n",
       "    }\n",
       "\n",
       "    .dataframe tbody tr th {\n",
       "        vertical-align: top;\n",
       "    }\n",
       "\n",
       "    .dataframe thead th {\n",
       "        text-align: right;\n",
       "    }\n",
       "</style>\n",
       "<table border=\"1\" class=\"dataframe\">\n",
       "  <thead>\n",
       "    <tr style=\"text-align: right;\">\n",
       "      <th></th>\n",
       "      <th>Image File</th>\n",
       "      <th>Disabled parking spots</th>\n",
       "      <th>Parking spots</th>\n",
       "      <th>Cars</th>\n",
       "      <th>Empty disabled parking spots</th>\n",
       "      <th>Occupied disabled parking spots</th>\n",
       "      <th>Empty parking spots</th>\n",
       "      <th>Occupied parking spots</th>\n",
       "      <th>Cars in transit or parked in non-parking spots</th>\n",
       "    </tr>\n",
       "  </thead>\n",
       "  <tbody>\n",
       "    <tr>\n",
       "      <th>0</th>\n",
       "      <td>empty_set1_60m_1.jpg</td>\n",
       "      <td>20</td>\n",
       "      <td>70</td>\n",
       "      <td>1</td>\n",
       "      <td>20</td>\n",
       "      <td>0</td>\n",
       "      <td>69</td>\n",
       "      <td>1</td>\n",
       "      <td>0</td>\n",
       "    </tr>\n",
       "    <tr>\n",
       "      <th>1</th>\n",
       "      <td>empty_set1_60m_2.jpg</td>\n",
       "      <td>20</td>\n",
       "      <td>70</td>\n",
       "      <td>1</td>\n",
       "      <td>20</td>\n",
       "      <td>0</td>\n",
       "      <td>69</td>\n",
       "      <td>1</td>\n",
       "      <td>0</td>\n",
       "    </tr>\n",
       "    <tr>\n",
       "      <th>2</th>\n",
       "      <td>empty_set1_65m_1.jpg</td>\n",
       "      <td>22</td>\n",
       "      <td>77</td>\n",
       "      <td>0</td>\n",
       "      <td>22</td>\n",
       "      <td>0</td>\n",
       "      <td>77</td>\n",
       "      <td>0</td>\n",
       "      <td>0</td>\n",
       "    </tr>\n",
       "    <tr>\n",
       "      <th>3</th>\n",
       "      <td>empty_set1_70m_2.jpg</td>\n",
       "      <td>22</td>\n",
       "      <td>77</td>\n",
       "      <td>1</td>\n",
       "      <td>22</td>\n",
       "      <td>0</td>\n",
       "      <td>76</td>\n",
       "      <td>1</td>\n",
       "      <td>0</td>\n",
       "    </tr>\n",
       "    <tr>\n",
       "      <th>4</th>\n",
       "      <td>empty_set1_75m_1.jpg</td>\n",
       "      <td>22</td>\n",
       "      <td>77</td>\n",
       "      <td>0</td>\n",
       "      <td>22</td>\n",
       "      <td>0</td>\n",
       "      <td>77</td>\n",
       "      <td>0</td>\n",
       "      <td>0</td>\n",
       "    </tr>\n",
       "  </tbody>\n",
       "</table>\n",
       "</div>"
      ],
      "text/plain": [
       "             Image File  Disabled parking spots  Parking spots  Cars  \\\n",
       "0  empty_set1_60m_1.jpg                      20             70     1   \n",
       "1  empty_set1_60m_2.jpg                      20             70     1   \n",
       "2  empty_set1_65m_1.jpg                      22             77     0   \n",
       "3  empty_set1_70m_2.jpg                      22             77     1   \n",
       "4  empty_set1_75m_1.jpg                      22             77     0   \n",
       "\n",
       "   Empty disabled parking spots  Occupied disabled parking spots  \\\n",
       "0                            20                                0   \n",
       "1                            20                                0   \n",
       "2                            22                                0   \n",
       "3                            22                                0   \n",
       "4                            22                                0   \n",
       "\n",
       "   Empty parking spots  Occupied parking spots  \\\n",
       "0                   69                       1   \n",
       "1                   69                       1   \n",
       "2                   77                       0   \n",
       "3                   76                       1   \n",
       "4                   77                       0   \n",
       "\n",
       "   Cars in transit or parked in non-parking spots  \n",
       "0                                               0  \n",
       "1                                               0  \n",
       "2                                               0  \n",
       "3                                               0  \n",
       "4                                               0  "
      ]
     },
     "execution_count": 4,
     "metadata": {},
     "output_type": "execute_result"
    }
   ],
   "source": [
    "# Specify the model name\n",
    "model = 'yolov5n_fold_0'\n",
    "\n",
    "# Specify the folder path containing the images and annotations\n",
    "data_path = os.path.join(repo_path, 'data')\n",
    "\n",
    "# Specify the output folder path\n",
    "output_folder = f'{repo_path}/results/{model}/'\n",
    "\n",
    "# process_images returns a dataframe containing the results\n",
    "yolov5n_results = process_images(data_path, output_folder, highlighted_cars=True, model=model)\n",
    "yolov5n_results.head(5) # Show the results for the first 5 images"
   ]
  },
  {
   "cell_type": "markdown",
   "metadata": {},
   "source": [
    "#### <div id=\"my-yolov5s\">Predictions provided by my trained YOLOv5s model</div>"
   ]
  },
  {
   "cell_type": "code",
   "execution_count": 5,
   "metadata": {},
   "outputs": [
    {
     "name": "stdout",
     "output_type": "stream",
     "text": [
      "Using labels from c:\\Users\\mathe\\Documents\\Projects\\YOLO-Parking-Spot\\results/yolov5s_fold_0/labels/\n",
      "Processing images...\n",
      "Processed 23 images ✅\n"
     ]
    },
    {
     "data": {
      "text/html": [
       "<div>\n",
       "<style scoped>\n",
       "    .dataframe tbody tr th:only-of-type {\n",
       "        vertical-align: middle;\n",
       "    }\n",
       "\n",
       "    .dataframe tbody tr th {\n",
       "        vertical-align: top;\n",
       "    }\n",
       "\n",
       "    .dataframe thead th {\n",
       "        text-align: right;\n",
       "    }\n",
       "</style>\n",
       "<table border=\"1\" class=\"dataframe\">\n",
       "  <thead>\n",
       "    <tr style=\"text-align: right;\">\n",
       "      <th></th>\n",
       "      <th>Image File</th>\n",
       "      <th>Disabled parking spots</th>\n",
       "      <th>Parking spots</th>\n",
       "      <th>Cars</th>\n",
       "      <th>Empty disabled parking spots</th>\n",
       "      <th>Occupied disabled parking spots</th>\n",
       "      <th>Empty parking spots</th>\n",
       "      <th>Occupied parking spots</th>\n",
       "      <th>Cars in transit or parked in non-parking spots</th>\n",
       "    </tr>\n",
       "  </thead>\n",
       "  <tbody>\n",
       "    <tr>\n",
       "      <th>0</th>\n",
       "      <td>empty_set1_60m_1.jpg</td>\n",
       "      <td>20</td>\n",
       "      <td>70</td>\n",
       "      <td>1</td>\n",
       "      <td>20</td>\n",
       "      <td>0</td>\n",
       "      <td>69</td>\n",
       "      <td>1</td>\n",
       "      <td>0</td>\n",
       "    </tr>\n",
       "    <tr>\n",
       "      <th>1</th>\n",
       "      <td>empty_set1_60m_2.jpg</td>\n",
       "      <td>20</td>\n",
       "      <td>70</td>\n",
       "      <td>1</td>\n",
       "      <td>20</td>\n",
       "      <td>0</td>\n",
       "      <td>69</td>\n",
       "      <td>1</td>\n",
       "      <td>0</td>\n",
       "    </tr>\n",
       "    <tr>\n",
       "      <th>2</th>\n",
       "      <td>empty_set1_65m_1.jpg</td>\n",
       "      <td>22</td>\n",
       "      <td>77</td>\n",
       "      <td>0</td>\n",
       "      <td>22</td>\n",
       "      <td>0</td>\n",
       "      <td>77</td>\n",
       "      <td>0</td>\n",
       "      <td>0</td>\n",
       "    </tr>\n",
       "    <tr>\n",
       "      <th>3</th>\n",
       "      <td>empty_set1_70m_2.jpg</td>\n",
       "      <td>22</td>\n",
       "      <td>77</td>\n",
       "      <td>1</td>\n",
       "      <td>22</td>\n",
       "      <td>0</td>\n",
       "      <td>76</td>\n",
       "      <td>1</td>\n",
       "      <td>0</td>\n",
       "    </tr>\n",
       "    <tr>\n",
       "      <th>4</th>\n",
       "      <td>empty_set1_75m_1.jpg</td>\n",
       "      <td>22</td>\n",
       "      <td>77</td>\n",
       "      <td>0</td>\n",
       "      <td>22</td>\n",
       "      <td>0</td>\n",
       "      <td>77</td>\n",
       "      <td>0</td>\n",
       "      <td>0</td>\n",
       "    </tr>\n",
       "  </tbody>\n",
       "</table>\n",
       "</div>"
      ],
      "text/plain": [
       "             Image File  Disabled parking spots  Parking spots  Cars  \\\n",
       "0  empty_set1_60m_1.jpg                      20             70     1   \n",
       "1  empty_set1_60m_2.jpg                      20             70     1   \n",
       "2  empty_set1_65m_1.jpg                      22             77     0   \n",
       "3  empty_set1_70m_2.jpg                      22             77     1   \n",
       "4  empty_set1_75m_1.jpg                      22             77     0   \n",
       "\n",
       "   Empty disabled parking spots  Occupied disabled parking spots  \\\n",
       "0                            20                                0   \n",
       "1                            20                                0   \n",
       "2                            22                                0   \n",
       "3                            22                                0   \n",
       "4                            22                                0   \n",
       "\n",
       "   Empty parking spots  Occupied parking spots  \\\n",
       "0                   69                       1   \n",
       "1                   69                       1   \n",
       "2                   77                       0   \n",
       "3                   76                       1   \n",
       "4                   77                       0   \n",
       "\n",
       "   Cars in transit or parked in non-parking spots  \n",
       "0                                               0  \n",
       "1                                               0  \n",
       "2                                               0  \n",
       "3                                               0  \n",
       "4                                               0  "
      ]
     },
     "execution_count": 5,
     "metadata": {},
     "output_type": "execute_result"
    }
   ],
   "source": [
    "model = 'yolov5s_fold_0'\n",
    "output_folder = f'{repo_path}/results/{model}/'\n",
    "yolov5s_results = process_images(data_path, output_folder, highlighted_cars=True, model=model)\n",
    "yolov5s_results.head() # Show the results for the first 5 images"
   ]
  },
  {
   "cell_type": "markdown",
   "metadata": {},
   "source": [
    "### <div id=\"yolov8-model\">YOLOv8</div>\n",
    "\n",
    "The following cell will generate the processed images with the labels provided by the YOLOv8 model's predictions."
   ]
  },
  {
   "cell_type": "markdown",
   "metadata": {},
   "source": [
    "#### <div id=\"my-yolov8n\">Predictions provided by my trained YOLOv8n model"
   ]
  },
  {
   "cell_type": "code",
   "execution_count": 6,
   "metadata": {},
   "outputs": [
    {
     "name": "stdout",
     "output_type": "stream",
     "text": [
      "Using labels from c:\\Users\\mathe\\Documents\\Projects\\YOLO-Parking-Spot\\results/yolov8n_fold_0/labels/\n",
      "Processing images...\n",
      "Processed 23 images ✅\n"
     ]
    },
    {
     "data": {
      "text/html": [
       "<div>\n",
       "<style scoped>\n",
       "    .dataframe tbody tr th:only-of-type {\n",
       "        vertical-align: middle;\n",
       "    }\n",
       "\n",
       "    .dataframe tbody tr th {\n",
       "        vertical-align: top;\n",
       "    }\n",
       "\n",
       "    .dataframe thead th {\n",
       "        text-align: right;\n",
       "    }\n",
       "</style>\n",
       "<table border=\"1\" class=\"dataframe\">\n",
       "  <thead>\n",
       "    <tr style=\"text-align: right;\">\n",
       "      <th></th>\n",
       "      <th>Image File</th>\n",
       "      <th>Disabled parking spots</th>\n",
       "      <th>Parking spots</th>\n",
       "      <th>Cars</th>\n",
       "      <th>Empty disabled parking spots</th>\n",
       "      <th>Occupied disabled parking spots</th>\n",
       "      <th>Empty parking spots</th>\n",
       "      <th>Occupied parking spots</th>\n",
       "      <th>Cars in transit or parked in non-parking spots</th>\n",
       "    </tr>\n",
       "  </thead>\n",
       "  <tbody>\n",
       "    <tr>\n",
       "      <th>0</th>\n",
       "      <td>empty_set1_60m_1.jpg</td>\n",
       "      <td>20</td>\n",
       "      <td>70</td>\n",
       "      <td>1</td>\n",
       "      <td>20</td>\n",
       "      <td>0</td>\n",
       "      <td>69</td>\n",
       "      <td>1</td>\n",
       "      <td>0</td>\n",
       "    </tr>\n",
       "    <tr>\n",
       "      <th>1</th>\n",
       "      <td>empty_set1_60m_2.jpg</td>\n",
       "      <td>20</td>\n",
       "      <td>70</td>\n",
       "      <td>1</td>\n",
       "      <td>20</td>\n",
       "      <td>0</td>\n",
       "      <td>69</td>\n",
       "      <td>1</td>\n",
       "      <td>0</td>\n",
       "    </tr>\n",
       "    <tr>\n",
       "      <th>2</th>\n",
       "      <td>empty_set1_65m_1.jpg</td>\n",
       "      <td>22</td>\n",
       "      <td>77</td>\n",
       "      <td>0</td>\n",
       "      <td>22</td>\n",
       "      <td>0</td>\n",
       "      <td>77</td>\n",
       "      <td>0</td>\n",
       "      <td>0</td>\n",
       "    </tr>\n",
       "    <tr>\n",
       "      <th>3</th>\n",
       "      <td>empty_set1_70m_2.jpg</td>\n",
       "      <td>22</td>\n",
       "      <td>77</td>\n",
       "      <td>1</td>\n",
       "      <td>22</td>\n",
       "      <td>0</td>\n",
       "      <td>76</td>\n",
       "      <td>1</td>\n",
       "      <td>0</td>\n",
       "    </tr>\n",
       "    <tr>\n",
       "      <th>4</th>\n",
       "      <td>empty_set1_75m_1.jpg</td>\n",
       "      <td>22</td>\n",
       "      <td>77</td>\n",
       "      <td>0</td>\n",
       "      <td>22</td>\n",
       "      <td>0</td>\n",
       "      <td>77</td>\n",
       "      <td>0</td>\n",
       "      <td>0</td>\n",
       "    </tr>\n",
       "  </tbody>\n",
       "</table>\n",
       "</div>"
      ],
      "text/plain": [
       "             Image File  Disabled parking spots  Parking spots  Cars  \\\n",
       "0  empty_set1_60m_1.jpg                      20             70     1   \n",
       "1  empty_set1_60m_2.jpg                      20             70     1   \n",
       "2  empty_set1_65m_1.jpg                      22             77     0   \n",
       "3  empty_set1_70m_2.jpg                      22             77     1   \n",
       "4  empty_set1_75m_1.jpg                      22             77     0   \n",
       "\n",
       "   Empty disabled parking spots  Occupied disabled parking spots  \\\n",
       "0                            20                                0   \n",
       "1                            20                                0   \n",
       "2                            22                                0   \n",
       "3                            22                                0   \n",
       "4                            22                                0   \n",
       "\n",
       "   Empty parking spots  Occupied parking spots  \\\n",
       "0                   69                       1   \n",
       "1                   69                       1   \n",
       "2                   77                       0   \n",
       "3                   76                       1   \n",
       "4                   77                       0   \n",
       "\n",
       "   Cars in transit or parked in non-parking spots  \n",
       "0                                               0  \n",
       "1                                               0  \n",
       "2                                               0  \n",
       "3                                               0  \n",
       "4                                               0  "
      ]
     },
     "execution_count": 6,
     "metadata": {},
     "output_type": "execute_result"
    }
   ],
   "source": [
    "# Specify the model name\n",
    "model = 'yolov8n_fold_0'\n",
    "\n",
    "# Specify the folder path containing the images and annotations\n",
    "data_path = os.path.join(repo_path, 'data')\n",
    "\n",
    "# Specify the output folder path\n",
    "output_folder = f'{repo_path}/results/{model}/'\n",
    "\n",
    "# process_images returns a dataframe containing the results\n",
    "yolov8n_results = process_images(data_path, output_folder, highlighted_cars=True, model=model)\n",
    "yolov8n_results.head() # Show the results for the first 5 images"
   ]
  },
  {
   "cell_type": "markdown",
   "metadata": {},
   "source": [
    "#### <div id=\"my-yolov8s\">Predictions provided by my trained YOLOv8s model"
   ]
  },
  {
   "cell_type": "code",
   "execution_count": 7,
   "metadata": {},
   "outputs": [
    {
     "name": "stdout",
     "output_type": "stream",
     "text": [
      "Using labels from c:\\Users\\mathe\\Documents\\Projects\\YOLO-Parking-Spot\\results/yolov8s_fold_0/labels/\n",
      "Processing images...\n",
      "Processed 23 images ✅\n"
     ]
    },
    {
     "data": {
      "text/html": [
       "<div>\n",
       "<style scoped>\n",
       "    .dataframe tbody tr th:only-of-type {\n",
       "        vertical-align: middle;\n",
       "    }\n",
       "\n",
       "    .dataframe tbody tr th {\n",
       "        vertical-align: top;\n",
       "    }\n",
       "\n",
       "    .dataframe thead th {\n",
       "        text-align: right;\n",
       "    }\n",
       "</style>\n",
       "<table border=\"1\" class=\"dataframe\">\n",
       "  <thead>\n",
       "    <tr style=\"text-align: right;\">\n",
       "      <th></th>\n",
       "      <th>Image File</th>\n",
       "      <th>Disabled parking spots</th>\n",
       "      <th>Parking spots</th>\n",
       "      <th>Cars</th>\n",
       "      <th>Empty disabled parking spots</th>\n",
       "      <th>Occupied disabled parking spots</th>\n",
       "      <th>Empty parking spots</th>\n",
       "      <th>Occupied parking spots</th>\n",
       "      <th>Cars in transit or parked in non-parking spots</th>\n",
       "    </tr>\n",
       "  </thead>\n",
       "  <tbody>\n",
       "    <tr>\n",
       "      <th>0</th>\n",
       "      <td>empty_set1_60m_1.jpg</td>\n",
       "      <td>20</td>\n",
       "      <td>70</td>\n",
       "      <td>1</td>\n",
       "      <td>20</td>\n",
       "      <td>0</td>\n",
       "      <td>69</td>\n",
       "      <td>1</td>\n",
       "      <td>0</td>\n",
       "    </tr>\n",
       "    <tr>\n",
       "      <th>1</th>\n",
       "      <td>empty_set1_60m_2.jpg</td>\n",
       "      <td>20</td>\n",
       "      <td>70</td>\n",
       "      <td>1</td>\n",
       "      <td>20</td>\n",
       "      <td>0</td>\n",
       "      <td>69</td>\n",
       "      <td>1</td>\n",
       "      <td>0</td>\n",
       "    </tr>\n",
       "    <tr>\n",
       "      <th>2</th>\n",
       "      <td>empty_set1_65m_1.jpg</td>\n",
       "      <td>22</td>\n",
       "      <td>77</td>\n",
       "      <td>0</td>\n",
       "      <td>22</td>\n",
       "      <td>0</td>\n",
       "      <td>77</td>\n",
       "      <td>0</td>\n",
       "      <td>0</td>\n",
       "    </tr>\n",
       "    <tr>\n",
       "      <th>3</th>\n",
       "      <td>empty_set1_70m_2.jpg</td>\n",
       "      <td>22</td>\n",
       "      <td>77</td>\n",
       "      <td>1</td>\n",
       "      <td>22</td>\n",
       "      <td>0</td>\n",
       "      <td>76</td>\n",
       "      <td>1</td>\n",
       "      <td>0</td>\n",
       "    </tr>\n",
       "    <tr>\n",
       "      <th>4</th>\n",
       "      <td>empty_set1_75m_1.jpg</td>\n",
       "      <td>22</td>\n",
       "      <td>77</td>\n",
       "      <td>0</td>\n",
       "      <td>22</td>\n",
       "      <td>0</td>\n",
       "      <td>77</td>\n",
       "      <td>0</td>\n",
       "      <td>0</td>\n",
       "    </tr>\n",
       "  </tbody>\n",
       "</table>\n",
       "</div>"
      ],
      "text/plain": [
       "             Image File  Disabled parking spots  Parking spots  Cars  \\\n",
       "0  empty_set1_60m_1.jpg                      20             70     1   \n",
       "1  empty_set1_60m_2.jpg                      20             70     1   \n",
       "2  empty_set1_65m_1.jpg                      22             77     0   \n",
       "3  empty_set1_70m_2.jpg                      22             77     1   \n",
       "4  empty_set1_75m_1.jpg                      22             77     0   \n",
       "\n",
       "   Empty disabled parking spots  Occupied disabled parking spots  \\\n",
       "0                            20                                0   \n",
       "1                            20                                0   \n",
       "2                            22                                0   \n",
       "3                            22                                0   \n",
       "4                            22                                0   \n",
       "\n",
       "   Empty parking spots  Occupied parking spots  \\\n",
       "0                   69                       1   \n",
       "1                   69                       1   \n",
       "2                   77                       0   \n",
       "3                   76                       1   \n",
       "4                   77                       0   \n",
       "\n",
       "   Cars in transit or parked in non-parking spots  \n",
       "0                                               0  \n",
       "1                                               0  \n",
       "2                                               0  \n",
       "3                                               0  \n",
       "4                                               0  "
      ]
     },
     "execution_count": 7,
     "metadata": {},
     "output_type": "execute_result"
    }
   ],
   "source": [
    "model = 'yolov8s_fold_0'\n",
    "output_folder = f'{repo_path}/results/{model}/'\n",
    "yolov8s_results = process_images(data_path, output_folder, highlighted_cars=True, model=model)\n",
    "yolov8s_results.head() # Show the results for the first 5 images"
   ]
  },
  {
   "cell_type": "markdown",
   "metadata": {},
   "source": [
    "### <div id=\"custom-model\">Custom model</div>\n",
    "\n",
    "#### If you want to train a model from scratch or make predictions with your trained model, go to the [yolov5](yolov5.ipynb) or [yolov8](yolov8.ipynb) notebooks ✨🚀\n",
    "\n",
    "To use your **trained model** predictions, specify the model path and the labels directory in `output_folder`!<br>\n",
    "Example:\n",
    "```python\n",
    "# Specify the model path or the model name if it is in the models folder.\n",
    "model_path = f'{repo_path}models/yolov5n/runs/exp/weights/best.pt'\n",
    "# model = \"my_yolovXX.pt\"\n",
    "\n",
    "# Specify the output folder path\n",
    "output_folder = f'{repo_path}/results/{model}/'\n",
    "\n",
    "# process_images returns a dataframe containing the results\n",
    "results = process_images(data_path, output_folder, highlighted_cars=True, model=model_path)\n",
    "results.head(20) # # Show the results for the first 20 images\n",
    "```"
   ]
  },
  {
   "cell_type": "code",
   "execution_count": 8,
   "metadata": {},
   "outputs": [],
   "source": [
    "# Specify the model path or the model name if it is in the models folder.\n",
    "#model_path = f'{repo_path}models/yolov5n/runs/exp/weights/best.pt'\n",
    "#model = \"my_yolovXX.pt\"\n",
    "\n",
    "# Specify the output folder path\n",
    "#output_folder = f'{repo_path}/results/{model}/'\n",
    "\n",
    "# process_images returns a dataframe containing the results\n",
    "#results = process_images(data_path, output_folder, highlighted_cars=True, model=model_path)\n",
    "#results.head(20) # # Show the results for the first 20 images"
   ]
  },
  {
   "cell_type": "markdown",
   "metadata": {},
   "source": [
    "## <div id=\"section-2\">Comparing the Models</div>\n",
    "<hr>"
   ]
  },
  {
   "cell_type": "markdown",
   "metadata": {},
   "source": [
    "Now, we will compare the models based on the average performance across the folds. In 2-fold cross-validation, the evaluation results are obtained for each model using two different subsets of the data. By calculating the average precision, recall, and mAP values for each model, we can obtain a representative measure of their overall performance. Comparing the models based on the average values allows us to assess their performance across different subsets of the data, providing a more comprehensive understanding of their capabilities. By considering the average performance, we can make informed decisions about which model may be more suitable for our specific needs and requirements."
   ]
  },
  {
   "cell_type": "code",
   "execution_count": 9,
   "metadata": {},
   "outputs": [
    {
     "data": {
      "text/html": [
       "<div>\n",
       "<style scoped>\n",
       "    .dataframe tbody tr th:only-of-type {\n",
       "        vertical-align: middle;\n",
       "    }\n",
       "\n",
       "    .dataframe tbody tr th {\n",
       "        vertical-align: top;\n",
       "    }\n",
       "\n",
       "    .dataframe thead th {\n",
       "        text-align: right;\n",
       "    }\n",
       "</style>\n",
       "<table border=\"1\" class=\"dataframe\">\n",
       "  <thead>\n",
       "    <tr style=\"text-align: right;\">\n",
       "      <th></th>\n",
       "      <th>Model</th>\n",
       "      <th>Model Size (MB)</th>\n",
       "      <th>Parameters</th>\n",
       "      <th>Precision</th>\n",
       "      <th>Recall</th>\n",
       "      <th>mAP0-50</th>\n",
       "      <th>mAP50-95</th>\n",
       "    </tr>\n",
       "  </thead>\n",
       "  <tbody>\n",
       "    <tr>\n",
       "      <th>0</th>\n",
       "      <td>YOLOv5n</td>\n",
       "      <td>4.8</td>\n",
       "      <td>1760518</td>\n",
       "      <td>0.9920</td>\n",
       "      <td>0.9960</td>\n",
       "      <td>0.995</td>\n",
       "      <td>0.7115</td>\n",
       "    </tr>\n",
       "    <tr>\n",
       "      <th>1</th>\n",
       "      <td>YOLOv5s</td>\n",
       "      <td>15.3</td>\n",
       "      <td>7012822</td>\n",
       "      <td>0.9975</td>\n",
       "      <td>0.9985</td>\n",
       "      <td>0.995</td>\n",
       "      <td>0.7370</td>\n",
       "    </tr>\n",
       "    <tr>\n",
       "      <th>2</th>\n",
       "      <td>YOLOv8n</td>\n",
       "      <td>6.5</td>\n",
       "      <td>3005843</td>\n",
       "      <td>0.9830</td>\n",
       "      <td>0.9805</td>\n",
       "      <td>0.993</td>\n",
       "      <td>0.7550</td>\n",
       "    </tr>\n",
       "    <tr>\n",
       "      <th>3</th>\n",
       "      <td>YOLOv8s</td>\n",
       "      <td>22.7</td>\n",
       "      <td>11125971</td>\n",
       "      <td>0.9755</td>\n",
       "      <td>0.9690</td>\n",
       "      <td>0.990</td>\n",
       "      <td>0.7190</td>\n",
       "    </tr>\n",
       "  </tbody>\n",
       "</table>\n",
       "</div>"
      ],
      "text/plain": [
       "     Model  Model Size (MB)  Parameters  Precision  Recall  mAP0-50  mAP50-95\n",
       "0  YOLOv5n              4.8     1760518     0.9920  0.9960    0.995    0.7115\n",
       "1  YOLOv5s             15.3     7012822     0.9975  0.9985    0.995    0.7370\n",
       "2  YOLOv8n              6.5     3005843     0.9830  0.9805    0.993    0.7550\n",
       "3  YOLOv8s             22.7    11125971     0.9755  0.9690    0.990    0.7190"
      ]
     },
     "execution_count": 9,
     "metadata": {},
     "output_type": "execute_result"
    }
   ],
   "source": [
    "models_summary = mean_df(models_summary)\n",
    "models_summary.head()"
   ]
  },
  {
   "cell_type": "code",
   "execution_count": 10,
   "metadata": {},
   "outputs": [
    {
     "data": {
      "image/png": "[encoded data removed]",
      "text/plain": [
       "<Figure size 1000x600 with 1 Axes>"
      ]
     },
     "metadata": {},
     "output_type": "display_data"
    }
   ],
   "source": [
    "# Plot the model size\n",
    "plot_model_size(models_summary)"
   ]
  },
  {
   "cell_type": "markdown",
   "metadata": {},
   "source": [
    "### <div id=\"size\">Size Comparison</div>\n",
    "\n",
    "This bar plot shows the model size in MB for each model. It provides a visual comparison of the size differences among the models."
   ]
  },
  {
   "cell_type": "code",
   "execution_count": 11,
   "metadata": {},
   "outputs": [
    {
     "data": {
      "image/png": "[encoded data removed]",
      "text/plain": [
       "<Figure size 1000x600 with 1 Axes>"
      ]
     },
     "metadata": {},
     "output_type": "display_data"
    }
   ],
   "source": [
    "plot_model_size(models_summary)"
   ]
  },
  {
   "cell_type": "markdown",
   "metadata": {},
   "source": [
    "### <div id=\"params\">Parameters Comparison</div>\n",
    "\n",
    "This bar plot shows the number of model parameters for each model. It provides a visual comparison of the differences in parameters among the models."
   ]
  },
  {
   "cell_type": "code",
   "execution_count": 12,
   "metadata": {},
   "outputs": [
    {
     "data": {
      "image/png": "[encoded data removed]",
      "text/plain": [
       "<Figure size 1000x600 with 1 Axes>"
      ]
     },
     "metadata": {},
     "output_type": "display_data"
    }
   ],
   "source": [
    "plot_model_params(models_summary)"
   ]
  },
  {
   "cell_type": "markdown",
   "metadata": {},
   "source": [
    "The YOLOv5 models have 157 layers, while the YOLOv8 models have 168 layers."
   ]
  },
  {
   "cell_type": "markdown",
   "metadata": {},
   "source": [
    "### <div id=\"precision-recall\">Precision and Recall Comparison</div>\n",
    "\n",
    "This line plot compares the precision and recall scores for each model. It helps in understanding the trade-off between precision and recall among different models."
   ]
  },
  {
   "cell_type": "code",
   "execution_count": 13,
   "metadata": {},
   "outputs": [
    {
     "data": {
      "image/png": "[encoded data removed]",
      "text/plain": [
       "<Figure size 1000x600 with 1 Axes>"
      ]
     },
     "metadata": {},
     "output_type": "display_data"
    }
   ],
   "source": [
    "plot_precision_recall(models_summary)"
   ]
  },
  {
   "cell_type": "markdown",
   "metadata": {},
   "source": [
    "### <div id=\"map\">mAP 50-95 Comparison</div>\n",
    "\n",
    "This bar plot compares the mAP50-95 scores for each model. It provides insights into the overall performance of the models in terms of mean Average Precision (mAP50-95)."
   ]
  },
  {
   "cell_type": "code",
   "execution_count": 14,
   "metadata": {},
   "outputs": [
    {
     "data": {
      "image/png": "[encoded data removed]",
      "text/plain": [
       "<Figure size 1000x600 with 1 Axes>"
      ]
     },
     "metadata": {},
     "output_type": "display_data"
    }
   ],
   "source": [
    "plot_mAP(models_summary)"
   ]
  },
  {
   "cell_type": "code",
   "execution_count": 15,
   "metadata": {},
   "outputs": [],
   "source": [
    "save_plots()"
   ]
  },
  {
   "cell_type": "markdown",
   "metadata": {},
   "source": [
    "## <div id=\"section-3\">Comparing the Results</div>\n",
    "<hr>"
   ]
  },
  {
   "cell_type": "code",
   "execution_count": 16,
   "metadata": {},
   "outputs": [
    {
     "data": {
      "text/html": [
       "<div>\n",
       "<style scoped>\n",
       "    .dataframe tbody tr th:only-of-type {\n",
       "        vertical-align: middle;\n",
       "    }\n",
       "\n",
       "    .dataframe tbody tr th {\n",
       "        vertical-align: top;\n",
       "    }\n",
       "\n",
       "    .dataframe thead th {\n",
       "        text-align: right;\n",
       "    }\n",
       "</style>\n",
       "<table border=\"1\" class=\"dataframe\">\n",
       "  <thead>\n",
       "    <tr style=\"text-align: right;\">\n",
       "      <th></th>\n",
       "      <th>Model</th>\n",
       "      <th>Cars Accuracy</th>\n",
       "      <th>Occupied disabled parking spots Accuracy</th>\n",
       "      <th>Empty disabled parking spots Accuracy</th>\n",
       "      <th>Occupied parking spots Accuracy</th>\n",
       "      <th>Empty parking spots Accuracy</th>\n",
       "      <th>Cars in transit or parked in non-parking spots Accuracy</th>\n",
       "    </tr>\n",
       "  </thead>\n",
       "  <tbody>\n",
       "    <tr>\n",
       "      <th>0</th>\n",
       "      <td>YOLOv5n</td>\n",
       "      <td>0.695652</td>\n",
       "      <td>1.0</td>\n",
       "      <td>1.0</td>\n",
       "      <td>1.00000</td>\n",
       "      <td>1.00000</td>\n",
       "      <td>0.695652</td>\n",
       "    </tr>\n",
       "    <tr>\n",
       "      <th>1</th>\n",
       "      <td>YOLOv5s</td>\n",
       "      <td>0.695652</td>\n",
       "      <td>1.0</td>\n",
       "      <td>1.0</td>\n",
       "      <td>1.00000</td>\n",
       "      <td>1.00000</td>\n",
       "      <td>0.695652</td>\n",
       "    </tr>\n",
       "    <tr>\n",
       "      <th>2</th>\n",
       "      <td>YOLOv8n</td>\n",
       "      <td>0.739130</td>\n",
       "      <td>1.0</td>\n",
       "      <td>1.0</td>\n",
       "      <td>1.00000</td>\n",
       "      <td>1.00000</td>\n",
       "      <td>0.739130</td>\n",
       "    </tr>\n",
       "    <tr>\n",
       "      <th>3</th>\n",
       "      <td>YOLOv8s</td>\n",
       "      <td>0.695652</td>\n",
       "      <td>1.0</td>\n",
       "      <td>1.0</td>\n",
       "      <td>0.73913</td>\n",
       "      <td>0.73913</td>\n",
       "      <td>0.782609</td>\n",
       "    </tr>\n",
       "  </tbody>\n",
       "</table>\n",
       "</div>"
      ],
      "text/plain": [
       "     Model  Cars Accuracy  Occupied disabled parking spots Accuracy  \\\n",
       "0  YOLOv5n       0.695652                                       1.0   \n",
       "1  YOLOv5s       0.695652                                       1.0   \n",
       "2  YOLOv8n       0.739130                                       1.0   \n",
       "3  YOLOv8s       0.695652                                       1.0   \n",
       "\n",
       "   Empty disabled parking spots Accuracy  Occupied parking spots Accuracy  \\\n",
       "0                                    1.0                          1.00000   \n",
       "1                                    1.0                          1.00000   \n",
       "2                                    1.0                          1.00000   \n",
       "3                                    1.0                          0.73913   \n",
       "\n",
       "   Empty parking spots Accuracy  \\\n",
       "0                       1.00000   \n",
       "1                       1.00000   \n",
       "2                       1.00000   \n",
       "3                       0.73913   \n",
       "\n",
       "   Cars in transit or parked in non-parking spots Accuracy  \n",
       "0                                           0.695652        \n",
       "1                                           0.695652        \n",
       "2                                           0.739130        \n",
       "3                                           0.782609        "
      ]
     },
     "execution_count": 16,
     "metadata": {},
     "output_type": "execute_result"
    }
   ],
   "source": [
    "results_df = get_results_df(without_yolo_results, yolov5n_results, yolov5s_results, yolov8n_results, yolov8s_results)\n",
    "results_df.head()"
   ]
  },
  {
   "cell_type": "markdown",
   "metadata": {},
   "source": [
    "The table provided above presents the Accuracy values for different columns based on predictions made by various models. These values indicate the models' performance in their respective tasks. Overall, the models achieved good results, particularly in identifying occupied and empty parking spots.\n",
    "\n",
    "However, an interesting observation arises concerning the \"Cars\" column. The Accuracy values for this column reveal that the models made some errors in predicting the number of cars identified in the images. Further analysis revealed that these errors were not due to shortcomings of the models themselves. Instead, the errors occurred because there were instances where cars were not manually marked during the dataset creation process.\n",
    "\n",
    "In other words, the models were able to detect cars in certain positions that were initially overlooked during the manual annotation of the dataset. This realization highlights the models' proficiency in identifying cars, even in unexpected positions. The errors observed in the \"Cars\" column can be attributed to human error during the dataset labeling phase, where some cars were incorrectly assumed to be undetectable by the models.\n",
    "\n",
    "These results emphasize the models' capabilities in accurately identifying occupied and empty parking spots. They also underscore the importance of thorough and precise dataset labeling to ensure accurate evaluation and performance assessment of the models."
   ]
  },
  {
   "cell_type": "markdown",
   "metadata": {},
   "source": [
    "## <div id=\"conclusion\">Conclusion</div>\n",
    "<hr>"
   ]
  },
  {
   "cell_type": "markdown",
   "metadata": {},
   "source": [
    "Based on the analysis presented, it can be concluded that all four models achieved excellent results for the parking lot at ICT Unifesp. However, based on certain factors, the YOLOv5n model can be considered the best option for this particular case.\n",
    "\n",
    "The YOLOv5n model demonstrated impressive performance in accurately identifying occupied and empty parking spots, as indicated by the consistently great Accuracy values across multiple columns. Additionally, it has the advantage of being the lightest in terms of file size (in MB) and having the fewest parameters compared to the other models. This translates into faster processing speed and lower memory usage, making it a practical choice for real-time applications.\n",
    "\n",
    "To further improve our work, it is recommended to create a larger and more precisely labeled dataset. By expanding the dataset and ensuring accurate labeling of cars and corresponding labels, we can enhance the training process and increase the model's ability to detect cars in various positions and conditions accurately.\n",
    "\n",
    "By investing in a more comprehensive and accurately labeled dataset, we can train a model that is tailored specifically to the ICT Unifesp parking lot, optimizing its performance and ensuring it meets the specific requirements of our study. With continued efforts to refine the dataset and fine-tune the model, we can strive for even better results and contribute to the advancement of parking spot detection and monitoring systems."
   ]
  }
 ],
 "metadata": {
  "kernelspec": {
   "display_name": "Python 3 (ipykernel)",
   "language": "python",
   "name": "python3"
  },
  "language_info": {
   "codemirror_mode": {
    "name": "ipython",
    "version": 3
   },
   "file_extension": ".py",
   "mimetype": "text/x-python",
   "name": "python",
   "nbconvert_exporter": "python",
   "pygments_lexer": "ipython3",
   "version": "3.10.11"
  }
 },
 "nbformat": 4,
 "nbformat_minor": 4
}
