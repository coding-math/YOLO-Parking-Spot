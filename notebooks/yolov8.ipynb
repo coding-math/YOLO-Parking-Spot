{
 "cells": [
  {
   "cell_type": "markdown",
   "metadata": {},
   "source": [
    "# <div align=\"center\">YOLOv8 model 🤖</div>\n",
    "<hr>"
   ]
  },
  {
   "cell_type": "markdown",
   "metadata": {},
   "source": [
    "### In this notebook, you can train and make predictions using YOLOv8 on my dataset. 🚗🅿️"
   ]
  },
  {
   "cell_type": "code",
   "execution_count": 1,
   "metadata": {},
   "outputs": [],
   "source": [
    "import sys\n",
    "import os\n",
    "import shutil\n",
    "import torch\n",
    "sys.path.append('../')\n",
    "\n",
    "from utils.functions import is_custom_model\n",
    "\n",
    "repo_path = os.getcwd()\n",
    "repo_path = os.path.dirname(repo_path)\n",
    "\n",
    "yolov8_path = os.path.join(repo_path, 'yolov8')"
   ]
  },
  {
   "cell_type": "code",
   "execution_count": null,
   "metadata": {},
   "outputs": [],
   "source": [
    "# Install yolov8\n",
    "!pip install ultralytics\n",
    "\n",
    "# Create yolov8 custom data\n",
    "!python $repo_path/utils/yolov8start.py --reporoot $repo_path"
   ]
  },
  {
   "cell_type": "code",
   "execution_count": null,
   "metadata": {},
   "outputs": [],
   "source": [
    "%cd $yolov8_path"
   ]
  },
  {
   "cell_type": "code",
   "execution_count": 4,
   "metadata": {},
   "outputs": [],
   "source": [
    "#@title Train YOLOv8\n",
    "def yolov8_detect_train(model, device=\"cpu\"):\n",
    "    model, model_path = is_custom_model(model, \"8\")\n",
    "\n",
    "    # Train\n",
    "    !yolo task=detect mode=train \\\n",
    "        model={model_path} \\\n",
    "        imgsz=1920 \\\n",
    "        data=\"{yolov8_path}/dataset.yaml\" \\\n",
    "        epochs=20 \\\n",
    "        batch=2 \\\n",
    "        project=\"{repo_path}/models/{model[:-3]}\" \\\n",
    "        device=\"{device}\" \\"
   ]
  },
  {
   "cell_type": "code",
   "execution_count": 5,
   "metadata": {},
   "outputs": [],
   "source": [
    "def yolov8_detect_predict(model, device=\"cpu\"):\n",
    "    model, model_path = is_custom_model(model, \"8\")\n",
    "\n",
    "    # Remove folder if it exists\n",
    "    if os.path.exists(os.path.join(repo_path, f'results/{model[:-3]}/')):\n",
    "        shutil.rmtree(os.path.join(repo_path, f'results/{model[:-3]}/'))\n",
    "    \n",
    "    !yolo task=detect mode=predict \\\n",
    "        model=\"{model_path}\" \\\n",
    "        source=\"{repo_path}/data/images\" \\\n",
    "        save_txt=True \\\n",
    "        save=False \\\n",
    "        exist_ok=True \\\n",
    "        imgsz=1920 \\\n",
    "        project=\"{repo_path}/results/\" \\\n",
    "        name=\"{model[:-3]}\" \\\n",
    "        device=\"{device}\""
   ]
  },
  {
   "cell_type": "markdown",
   "metadata": {},
   "source": [
    "# <div align=\"center\">Train your own YOLOv8 model on my dataset 🤖🚗🅿️</div>\n",
    "<hr>"
   ]
  },
  {
   "cell_type": "markdown",
   "metadata": {},
   "source": [
    "## Getting Started\n",
    "\n",
    "To get started, simply call the `yolov8_detect_train(model)` function. The `device` parameter specifies what device you want to use (cuda device, i.e. 0 or 0,1,2,3 or cpu), the `model` parameter specifies the model configuration you want to use. There are three options available:\n",
    "\n",
    "### 1. Standard YOLOv8 Model\n",
    "You can use one of the pre-trained standard YOLOv8 models by providing the model name. For example:\n",
    "```python\n",
    "yolov8_detect_train('yolov8n')\n",
    "```\n",
    "This will use the 'yolov8n' model for object detection and training. For more information on the available standard YOLOv8 models, you can refer to the [YOLOv8 models](https://github.com/ultralytics/ultralytics/#models) repository.\n",
    "\n",
    "### 2. Custom Model\n",
    "If you want to train a custom model, you can provide the path to the model weights file. For example:\n",
    "```python\n",
    "yolov8_detect_train(f'{repo_path}/models/yolov8n/train/weights/best.pt')\n",
    "```\n",
    "This will allow you to train your own YOLOv8 model using the specified weights.\n",
    "\n",
    "### 3. Uploaded Model\n",
    "If you manually added a model to the models folder and want to train using that model, you can provide the name of the model file. For example:\n",
    "```python\n",
    "yolov8_detect_train('my_yolov8n.pt')\n",
    "```\n",
    "This will use the 'my_yolov8n.pt' model for object detection and training.\n",
    "\n",
    "## Customizing Training Arguments\n",
    "\n",
    "If you want to customize the training arguments, you can modify the `yolov8_detect_train(model)` function. The function takes care of the object detection and training process, but you can explore and modify the code inside the function according to your specific needs.\n",
    "<hr>"
   ]
  },
  {
   "cell_type": "markdown",
   "metadata": {},
   "source": [
    "#### If you want to train, just uncomment the following lines"
   ]
  },
  {
   "cell_type": "code",
   "execution_count": 6,
   "metadata": {},
   "outputs": [],
   "source": [
    "# name:\n",
    "#yolov8_detect_train('yolov8n.pt')\n",
    "\n",
    "# path:\n",
    "#yolov8_detect_train(f'{repo_path}/models/yolov8n/train/weights/best.pt')\n",
    "\n",
    "# uploaded model:\n",
    "#yolov8_detect_train('my_yolov8n.pt')"
   ]
  },
  {
   "cell_type": "markdown",
   "metadata": {},
   "source": [
    "# <div align=\"center\">Make predictions with your own YOLOv8 model on my dataset 🔮🚗🔍</div>\n",
    "<hr>"
   ]
  },
  {
   "cell_type": "markdown",
   "metadata": {},
   "source": [
    "## Getting Started\n",
    "\n",
    "To get started, simply call the `yolov8_detect_predict(model, device)` function. The `device` parameter specifies what device you want to use (cuda device, i.e. 0 or 0,1,2,3 or cpu), the `model` parameter specifies the model configuration you want to use. There are three options available:\n",
    "\n",
    "### 1. Standard YOLOv8 Model\n",
    "You can use one of the pre-trained standard YOLOv8 models by providing the model name. For example:\n",
    "```python\n",
    "yolov8_detect_predict('yolov8n')\n",
    "```\n",
    "This will use the 'yolov8n' model for object detection and prediction. For more information on the available standard YOLOv8 models, you can refer to the [YOLOv8 models](https://github.com/ultralytics/ultralytics#models) repository.\n",
    "\n",
    "### 2. Custom Model\n",
    "If you want to make predictions with a custom model, you can provide the path to the model weights file. For example:\n",
    "```python\n",
    "yolov8_detect_predict(f'{repo_path}/models/yolov8n/train/weights/best.pt')\n",
    "```\n",
    "This will allow you to make predictions on my dataset using the specified weights.\n",
    "\n",
    "### 3. Uploaded Model\n",
    "If you manually added a model to the models folder and want to make predictions using that model, you can provide the name of the model file. For example:\n",
    "```python\n",
    "yolov8_detect_predict('my_yolov8n.pt')\n",
    "```\n",
    "This will use the 'my_yolov8n.pt' model for object prediction.\n",
    "\n",
    "## Customizing Prediction Arguments\n",
    "\n",
    "If you want to customize the prediction arguments, you can modify the `yolov8_detect_predict(model)` function. The function takes care of the object detection and prediction process, but you can explore and modify the code inside the function according to your specific needs.\n",
    "<hr>"
   ]
  },
  {
   "cell_type": "markdown",
   "metadata": {},
   "source": [
    "#### If you want to make predictions, just uncomment the following lines"
   ]
  },
  {
   "cell_type": "code",
   "execution_count": 7,
   "metadata": {},
   "outputs": [],
   "source": [
    "# name:\n",
    "#yolov8_detect_predict('yolov8n.pt')\n",
    "\n",
    "# path:\n",
    "#yolov8_detect_predict(f'{repo_path}/models/yolov8n/train/weights/best.pt')\n",
    "\n",
    "# uploaded model:\n",
    "#yolov8_detect_predict('my_yolov8n.pt')"
   ]
  }
 ],
 "metadata": {
  "kernelspec": {
   "display_name": "env",
   "language": "python",
   "name": "python3"
  },
  "language_info": {
   "codemirror_mode": {
    "name": "ipython",
    "version": 3
   },
   "file_extension": ".py",
   "mimetype": "text/x-python",
   "name": "python",
   "nbconvert_exporter": "python",
   "pygments_lexer": "ipython3",
   "version": "3.10.11"
  },
  "orig_nbformat": 4
 },
 "nbformat": 4,
 "nbformat_minor": 2
}
