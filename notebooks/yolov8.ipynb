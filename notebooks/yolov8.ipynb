{
 "cells": [
  {
   "cell_type": "markdown",
   "metadata": {},
   "source": [
    "# <div align=\"center\">YOLOv8 model 🤖</div>\n",
    "<hr>"
   ]
  },
  {
   "cell_type": "markdown",
   "metadata": {},
   "source": [
    "### In this notebook, you can train and make predictions using YOLOv8 on my dataset. 🚗🅿️"
   ]
  },
  {
   "cell_type": "code",
   "execution_count": 18,
   "metadata": {},
   "outputs": [],
   "source": [
    "import sys\n",
    "import os\n",
    "import shutil\n",
    "import torch\n",
    "sys.path.append('../')\n",
    "\n",
    "from utils.functions import is_custom_model\n",
    "\n",
    "repo_path = os.getcwd()\n",
    "repo_path = os.path.dirname(repo_path)\n",
    "\n",
    "yolov8_path = os.path.join(repo_path, 'yolov8')"
   ]
  },
  {
   "cell_type": "code",
   "execution_count": 19,
   "metadata": {},
   "outputs": [
    {
     "name": "stdout",
     "output_type": "stream",
     "text": [
      "Requirement already satisfied: ultralytics in c:\\users\\mathe\\documents\\projects\\yolo-parking-spot\\env\\lib\\site-packages (8.0.120)\n",
      "Requirement already satisfied: torchvision>=0.8.1 in c:\\users\\mathe\\documents\\projects\\yolo-parking-spot\\env\\lib\\site-packages (from ultralytics) (0.15.2)\n",
      "Requirement already satisfied: psutil in c:\\users\\mathe\\documents\\projects\\yolo-parking-spot\\env\\lib\\site-packages (from ultralytics) (5.9.5)\n",
      "Requirement already satisfied: PyYAML>=5.3.1 in c:\\users\\mathe\\documents\\projects\\yolo-parking-spot\\env\\lib\\site-packages (from ultralytics) (6.0)\n",
      "Requirement already satisfied: tqdm>=4.64.0 in c:\\users\\mathe\\documents\\projects\\yolo-parking-spot\\env\\lib\\site-packages (from ultralytics) (4.65.0)\n",
      "Requirement already satisfied: seaborn>=0.11.0 in c:\\users\\mathe\\documents\\projects\\yolo-parking-spot\\env\\lib\\site-packages (from ultralytics) (0.12.2)\n",
      "Requirement already satisfied: torch>=1.7.0 in c:\\users\\mathe\\documents\\projects\\yolo-parking-spot\\env\\lib\\site-packages (from ultralytics) (2.0.1+cu118)\n",
      "Requirement already satisfied: opencv-python>=4.6.0 in c:\\users\\mathe\\documents\\projects\\yolo-parking-spot\\env\\lib\\site-packages (from ultralytics) (4.7.0.72)\n",
      "Requirement already satisfied: matplotlib>=3.2.2 in c:\\users\\mathe\\documents\\projects\\yolo-parking-spot\\env\\lib\\site-packages (from ultralytics) (3.7.1)\n",
      "Requirement already satisfied: Pillow>=7.1.2 in c:\\users\\mathe\\documents\\projects\\yolo-parking-spot\\env\\lib\\site-packages (from ultralytics) (9.5.0)\n",
      "Requirement already satisfied: requests>=2.23.0 in c:\\users\\mathe\\documents\\projects\\yolo-parking-spot\\env\\lib\\site-packages (from ultralytics) (2.31.0)\n",
      "Requirement already satisfied: pandas>=1.1.4 in c:\\users\\mathe\\documents\\projects\\yolo-parking-spot\\env\\lib\\site-packages (from ultralytics) (2.0.2)\n",
      "Requirement already satisfied: scipy>=1.4.1 in c:\\users\\mathe\\documents\\projects\\yolo-parking-spot\\env\\lib\\site-packages (from ultralytics) (1.10.1)\n",
      "Requirement already satisfied: python-dateutil>=2.7 in c:\\users\\mathe\\documents\\projects\\yolo-parking-spot\\env\\lib\\site-packages (from matplotlib>=3.2.2->ultralytics) (2.8.2)\n",
      "Requirement already satisfied: cycler>=0.10 in c:\\users\\mathe\\documents\\projects\\yolo-parking-spot\\env\\lib\\site-packages (from matplotlib>=3.2.2->ultralytics) (0.11.0)\n",
      "Requirement already satisfied: contourpy>=1.0.1 in c:\\users\\mathe\\documents\\projects\\yolo-parking-spot\\env\\lib\\site-packages (from matplotlib>=3.2.2->ultralytics) (1.1.0)\n",
      "Requirement already satisfied: numpy>=1.20 in c:\\users\\mathe\\documents\\projects\\yolo-parking-spot\\env\\lib\\site-packages (from matplotlib>=3.2.2->ultralytics) (1.25.0)\n",
      "Requirement already satisfied: packaging>=20.0 in c:\\users\\mathe\\documents\\projects\\yolo-parking-spot\\env\\lib\\site-packages (from matplotlib>=3.2.2->ultralytics) (23.1)\n",
      "Requirement already satisfied: pyparsing>=2.3.1 in c:\\users\\mathe\\documents\\projects\\yolo-parking-spot\\env\\lib\\site-packages (from matplotlib>=3.2.2->ultralytics) (3.1.0)\n",
      "Requirement already satisfied: kiwisolver>=1.0.1 in c:\\users\\mathe\\documents\\projects\\yolo-parking-spot\\env\\lib\\site-packages (from matplotlib>=3.2.2->ultralytics) (1.4.4)\n",
      "Requirement already satisfied: fonttools>=4.22.0 in c:\\users\\mathe\\documents\\projects\\yolo-parking-spot\\env\\lib\\site-packages (from matplotlib>=3.2.2->ultralytics) (4.40.0)\n",
      "Requirement already satisfied: tzdata>=2022.1 in c:\\users\\mathe\\documents\\projects\\yolo-parking-spot\\env\\lib\\site-packages (from pandas>=1.1.4->ultralytics) (2023.3)\n",
      "Requirement already satisfied: pytz>=2020.1 in c:\\users\\mathe\\documents\\projects\\yolo-parking-spot\\env\\lib\\site-packages (from pandas>=1.1.4->ultralytics) (2023.3)\n",
      "Requirement already satisfied: charset-normalizer<4,>=2 in c:\\users\\mathe\\documents\\projects\\yolo-parking-spot\\env\\lib\\site-packages (from requests>=2.23.0->ultralytics) (3.1.0)\n",
      "Requirement already satisfied: certifi>=2017.4.17 in c:\\users\\mathe\\documents\\projects\\yolo-parking-spot\\env\\lib\\site-packages (from requests>=2.23.0->ultralytics) (2023.5.7)\n",
      "Requirement already satisfied: urllib3<3,>=1.21.1 in c:\\users\\mathe\\documents\\projects\\yolo-parking-spot\\env\\lib\\site-packages (from requests>=2.23.0->ultralytics) (2.0.3)\n",
      "Requirement already satisfied: idna<4,>=2.5 in c:\\users\\mathe\\documents\\projects\\yolo-parking-spot\\env\\lib\\site-packages (from requests>=2.23.0->ultralytics) (3.4)\n",
      "Requirement already satisfied: sympy in c:\\users\\mathe\\documents\\projects\\yolo-parking-spot\\env\\lib\\site-packages (from torch>=1.7.0->ultralytics) (1.12)\n",
      "Requirement already satisfied: typing-extensions in c:\\users\\mathe\\documents\\projects\\yolo-parking-spot\\env\\lib\\site-packages (from torch>=1.7.0->ultralytics) (4.6.3)\n",
      "Requirement already satisfied: networkx in c:\\users\\mathe\\documents\\projects\\yolo-parking-spot\\env\\lib\\site-packages (from torch>=1.7.0->ultralytics) (3.1)\n",
      "Requirement already satisfied: filelock in c:\\users\\mathe\\documents\\projects\\yolo-parking-spot\\env\\lib\\site-packages (from torch>=1.7.0->ultralytics) (3.12.2)\n",
      "Requirement already satisfied: jinja2 in c:\\users\\mathe\\documents\\projects\\yolo-parking-spot\\env\\lib\\site-packages (from torch>=1.7.0->ultralytics) (3.1.2)\n",
      "Requirement already satisfied: colorama in c:\\users\\mathe\\documents\\projects\\yolo-parking-spot\\env\\lib\\site-packages (from tqdm>=4.64.0->ultralytics) (0.4.6)\n",
      "Requirement already satisfied: six>=1.5 in c:\\users\\mathe\\documents\\projects\\yolo-parking-spot\\env\\lib\\site-packages (from python-dateutil>=2.7->matplotlib>=3.2.2->ultralytics) (1.16.0)\n",
      "Requirement already satisfied: MarkupSafe>=2.0 in c:\\users\\mathe\\documents\\projects\\yolo-parking-spot\\env\\lib\\site-packages (from jinja2->torch>=1.7.0->ultralytics) (2.1.3)\n",
      "Requirement already satisfied: mpmath>=0.19 in c:\\users\\mathe\\documents\\projects\\yolo-parking-spot\\env\\lib\\site-packages (from sympy->torch>=1.7.0->ultralytics) (1.3.0)\n"
     ]
    },
    {
     "name": "stderr",
     "output_type": "stream",
     "text": [
      "\n",
      "[notice] A new release of pip is available: 23.0.1 -> 23.1.2\n",
      "[notice] To update, run: python.exe -m pip install --upgrade pip\n",
      "Traceback (most recent call last):\n",
      "  File \"c:\\Users\\mathe\\Documents\\Projects\\YOLO-Parking-Spot\\utils\\yolov8start.py\", line 61, in <module>\n",
      "    main(opt)\n",
      "  File \"c:\\Users\\mathe\\Documents\\Projects\\YOLO-Parking-Spot\\utils\\yolov8start.py\", line 50, in main\n",
      "    shutil.rmtree(yolo_path)\n",
      "  File \"C:\\Program Files\\WindowsApps\\PythonSoftwareFoundation.Python.3.10_3.10.3056.0_x64__qbz5n2kfra8p0\\lib\\shutil.py\", line 750, in rmtree\n",
      "    return _rmtree_unsafe(path, onerror)\n",
      "  File \"C:\\Program Files\\WindowsApps\\PythonSoftwareFoundation.Python.3.10_3.10.3056.0_x64__qbz5n2kfra8p0\\lib\\shutil.py\", line 624, in _rmtree_unsafe\n",
      "    onerror(os.rmdir, path, sys.exc_info())\n",
      "  File \"C:\\Program Files\\WindowsApps\\PythonSoftwareFoundation.Python.3.10_3.10.3056.0_x64__qbz5n2kfra8p0\\lib\\shutil.py\", line 622, in _rmtree_unsafe\n",
      "    os.rmdir(path)\n",
      "PermissionError: [WinError 32] O arquivo já está sendo usado por outro processo: 'c:\\\\Users\\\\mathe\\\\Documents\\\\Projects\\\\YOLO-Parking-Spot\\\\yolov8'\n"
     ]
    }
   ],
   "source": [
    "# Install yolov8\n",
    "!pip install ultralytics\n",
    "\n",
    "# Create yolov8 custom data\n",
    "!python $repo_path/utils/yolov8start.py --reporoot $repo_path"
   ]
  },
  {
   "cell_type": "code",
   "execution_count": 20,
   "metadata": {},
   "outputs": [
    {
     "name": "stdout",
     "output_type": "stream",
     "text": [
      "c:\\Users\\mathe\\Documents\\Projects\\YOLO-Parking-Spot\\yolov8\n"
     ]
    }
   ],
   "source": [
    "%cd $yolov8_path"
   ]
  },
  {
   "cell_type": "code",
   "execution_count": 21,
   "metadata": {},
   "outputs": [],
   "source": [
    "#@title Train YOLOv8\n",
    "def yolov8_detect_train(model, device=\"cpu\"):\n",
    "    model, model_path = is_custom_model(model, \"8\")\n",
    "\n",
    "    # Train\n",
    "    !yolo task=detect mode=train \\\n",
    "        model={model_path} \\\n",
    "        imgsz=1920 \\\n",
    "        data=\"{yolov8_path}/dataset.yaml\" \\\n",
    "        epochs=20 \\\n",
    "        batch=2 \\\n",
    "        project=\"{repo_path}/models/{model[:-3]}\" \\\n",
    "        device=\"{device}\" \\"
   ]
  },
  {
   "cell_type": "code",
   "execution_count": 22,
   "metadata": {},
   "outputs": [],
   "source": [
    "def yolov8_detect_predict(model, device=\"cpu\", conf=0.25):\n",
    "    model, model_path = is_custom_model(model, \"8\")\n",
    "\n",
    "    # Remove folder if it exists\n",
    "    if os.path.exists(os.path.join(repo_path, f'results/{model[:-3]}/')):\n",
    "        shutil.rmtree(os.path.join(repo_path, f'results/{model[:-3]}/'))\n",
    "    \n",
    "    !yolo task=detect mode=predict \\\n",
    "        model=\"{model_path}\" \\\n",
    "        source=\"{repo_path}/data/images\" \\\n",
    "        save_txt=True \\\n",
    "        save=False \\\n",
    "        exist_ok=True \\\n",
    "        imgsz=1920 \\\n",
    "        conf={conf} \\\n",
    "        iou=0.05 \\\n",
    "        project=\"{repo_path}/results/\" \\\n",
    "        name=\"{model[:-3]}\" \\\n",
    "        device=\"{device}\""
   ]
  },
  {
   "cell_type": "markdown",
   "metadata": {},
   "source": [
    "# <div align=\"center\">Train your own YOLOv8 model on my dataset 🤖🚗🅿️</div>\n",
    "<hr>"
   ]
  },
  {
   "cell_type": "markdown",
   "metadata": {},
   "source": [
    "## Getting Started\n",
    "\n",
    "To get started, simply call the `yolov8_detect_train(model)` function. The `device` parameter specifies what device you want to use (cuda device, i.e. 0 or 0,1,2,3 or cpu), the `model` parameter specifies the model configuration you want to use. There are three options available:\n",
    "\n",
    "### 1. Standard YOLOv8 Model\n",
    "You can use one of the pre-trained standard YOLOv8 models by providing the model name. For example:\n",
    "```python\n",
    "yolov8_detect_train('yolov8n')\n",
    "```\n",
    "This will use the 'yolov8n' model for object detection and training. For more information on the available standard YOLOv8 models, you can refer to the [YOLOv8 models](https://github.com/ultralytics/ultralytics/#models) repository.\n",
    "\n",
    "### 2. Custom Model\n",
    "If you want to train a custom model, you can provide the path to the model weights file. For example:\n",
    "```python\n",
    "yolov8_detect_train(f'{repo_path}/models/yolov8n/train/weights/best.pt')\n",
    "```\n",
    "This will allow you to train your own YOLOv8 model using the specified weights.\n",
    "\n",
    "### 3. Uploaded Model\n",
    "If you manually added a model to the models folder and want to train using that model, you can provide the name of the model file. For example:\n",
    "```python\n",
    "yolov8_detect_train('my_yolov8n.pt')\n",
    "```\n",
    "This will use the 'my_yolov8n.pt' model for object detection and training.\n",
    "\n",
    "## Customizing Training Arguments\n",
    "\n",
    "If you want to customize the training arguments, you can modify the `yolov8_detect_train(model)` function. The function takes care of the object detection and training process, but you can explore and modify the code inside the function according to your specific needs.\n",
    "<hr>"
   ]
  },
  {
   "cell_type": "markdown",
   "metadata": {},
   "source": [
    "#### If you want to train, just uncomment the following lines"
   ]
  },
  {
   "cell_type": "code",
   "execution_count": 23,
   "metadata": {},
   "outputs": [],
   "source": [
    "# name:\n",
    "#yolov8_detect_train('yolov8n.pt')\n",
    "\n",
    "# path:\n",
    "#yolov8_detect_train(f'{repo_path}/models/yolov8n/train/weights/best.pt')\n",
    "\n",
    "# uploaded model:\n",
    "#yolov8_detect_train('my_yolov8n.pt')"
   ]
  },
  {
   "cell_type": "markdown",
   "metadata": {},
   "source": [
    "# <div align=\"center\">Make predictions with your own YOLOv8 model on my dataset 🔮🚗🔍</div>\n",
    "<hr>"
   ]
  },
  {
   "cell_type": "markdown",
   "metadata": {},
   "source": [
    "## Getting Started\n",
    "\n",
    "To get started, simply call the `yolov8_detect_predict(model, device)` function. The `device` parameter specifies what device you want to use (cuda device, i.e. 0 or 0,1,2,3 or cpu), the `model` parameter specifies the model configuration you want to use. There are three options available:\n",
    "\n",
    "### 1. Standard YOLOv8 Model\n",
    "You can use one of the pre-trained standard YOLOv8 models by providing the model name. For example:\n",
    "```python\n",
    "yolov8_detect_predict('yolov8n')\n",
    "```\n",
    "This will use the 'yolov8n' model for object detection and prediction. For more information on the available standard YOLOv8 models, you can refer to the [YOLOv8 models](https://github.com/ultralytics/ultralytics#models) repository.\n",
    "\n",
    "### 2. Custom Model\n",
    "If you want to make predictions with a custom model, you can provide the path to the model weights file. For example:\n",
    "```python\n",
    "yolov8_detect_predict(f'{repo_path}/models/yolov8n/train/weights/best.pt')\n",
    "```\n",
    "This will allow you to make predictions on my dataset using the specified weights.\n",
    "\n",
    "### 3. Uploaded Model\n",
    "If you manually added a model to the models folder and want to make predictions using that model, you can provide the name of the model file. For example:\n",
    "```python\n",
    "yolov8_detect_predict('my_yolov8n.pt')\n",
    "```\n",
    "This will use the 'my_yolov8n.pt' model for object prediction.\n",
    "\n",
    "## Customizing Prediction Arguments\n",
    "\n",
    "If you want to customize the prediction arguments, you can modify the `yolov8_detect_predict(model)` function. The function takes care of the object detection and prediction process, but you can explore and modify the code inside the function according to your specific needs.\n",
    "<hr>"
   ]
  },
  {
   "cell_type": "markdown",
   "metadata": {},
   "source": [
    "#### If you want to make predictions, just uncomment the following lines"
   ]
  },
  {
   "cell_type": "code",
   "execution_count": 24,
   "metadata": {},
   "outputs": [
    {
     "name": "stderr",
     "output_type": "stream",
     "text": [
      "Ultralytics YOLOv8.0.120  Python-3.10.11 torch-2.0.1+cu118 CPU\n",
      "Model summary (fused): 168 layers, 11125971 parameters, 0 gradients, 28.4 GFLOPs\n",
      "\n",
      "image 1/23 c:\\Users\\mathe\\Documents\\Projects\\YOLO-Parking-Spot\\data\\images\\empty_set1_60m_1.jpg: 1088x1920 1 car, 1295.5ms\n",
      "image 2/23 c:\\Users\\mathe\\Documents\\Projects\\YOLO-Parking-Spot\\data\\images\\empty_set1_60m_2.jpg: 1088x1920 1 car, 1182.0ms\n",
      "image 3/23 c:\\Users\\mathe\\Documents\\Projects\\YOLO-Parking-Spot\\data\\images\\empty_set1_65m_1.jpg: 1088x1920 (no detections), 1268.0ms\n",
      "image 4/23 c:\\Users\\mathe\\Documents\\Projects\\YOLO-Parking-Spot\\data\\images\\empty_set1_70m_2.jpg: 1088x1920 1 car, 1365.5ms\n",
      "image 5/23 c:\\Users\\mathe\\Documents\\Projects\\YOLO-Parking-Spot\\data\\images\\empty_set1_75m_1.jpg: 1088x1920 (no detections), 1261.2ms\n",
      "image 6/23 c:\\Users\\mathe\\Documents\\Projects\\YOLO-Parking-Spot\\data\\images\\empty_set2_30m_2.jpg: 1088x1920 (no detections), 1257.6ms\n",
      "image 7/23 c:\\Users\\mathe\\Documents\\Projects\\YOLO-Parking-Spot\\data\\images\\empty_set2_30m_3.jpg: 1088x1920 (no detections), 1307.4ms\n",
      "image 8/23 c:\\Users\\mathe\\Documents\\Projects\\YOLO-Parking-Spot\\data\\images\\empty_set2_70m_1.jpg: 1088x1920 1 car, 1289.9ms\n",
      "image 9/23 c:\\Users\\mathe\\Documents\\Projects\\YOLO-Parking-Spot\\data\\images\\empty_set2_70m_2.jpg: 1088x1920 (no detections), 1318.2ms\n",
      "image 10/23 c:\\Users\\mathe\\Documents\\Projects\\YOLO-Parking-Spot\\data\\images\\occupied_set1_30m_1.jpg: 1088x1920 19 cars, 1641.2ms\n",
      "image 11/23 c:\\Users\\mathe\\Documents\\Projects\\YOLO-Parking-Spot\\data\\images\\occupied_set1_30m_2.jpg: 1088x1920 19 cars, 1577.3ms\n",
      "image 12/23 c:\\Users\\mathe\\Documents\\Projects\\YOLO-Parking-Spot\\data\\images\\occupied_set1_40m_1.jpg: 1088x1920 47 cars, 1267.8ms\n",
      "image 13/23 c:\\Users\\mathe\\Documents\\Projects\\YOLO-Parking-Spot\\data\\images\\occupied_set1_50m_1.jpg: 1088x1920 54 cars, 1370.0ms\n",
      "image 14/23 c:\\Users\\mathe\\Documents\\Projects\\YOLO-Parking-Spot\\data\\images\\occupied_set1_50m_2.jpg: 1088x1920 55 cars, 1362.4ms\n",
      "image 15/23 c:\\Users\\mathe\\Documents\\Projects\\YOLO-Parking-Spot\\data\\images\\occupied_set1_60m_1.jpg: 1088x1920 56 cars, 1221.4ms\n",
      "image 16/23 c:\\Users\\mathe\\Documents\\Projects\\YOLO-Parking-Spot\\data\\images\\occupied_set1_70m_1.jpg: 1088x1920 62 cars, 1253.1ms\n",
      "image 17/23 c:\\Users\\mathe\\Documents\\Projects\\YOLO-Parking-Spot\\data\\images\\occupied_set1_70m_2.jpg: 1088x1920 65 cars, 1229.9ms\n",
      "image 18/23 c:\\Users\\mathe\\Documents\\Projects\\YOLO-Parking-Spot\\data\\images\\occupied_set2_30m_1.jpg: 1088x1920 17 cars, 1157.1ms\n",
      "image 19/23 c:\\Users\\mathe\\Documents\\Projects\\YOLO-Parking-Spot\\data\\images\\occupied_set2_30m_2.jpg: 1088x1920 17 cars, 1180.8ms\n",
      "image 20/23 c:\\Users\\mathe\\Documents\\Projects\\YOLO-Parking-Spot\\data\\images\\occupied_set2_40m_1.jpg: 1088x1920 21 cars, 1234.8ms\n",
      "image 21/23 c:\\Users\\mathe\\Documents\\Projects\\YOLO-Parking-Spot\\data\\images\\occupied_set2_50m_1.jpg: 1088x1920 20 cars, 1200.8ms\n",
      "image 22/23 c:\\Users\\mathe\\Documents\\Projects\\YOLO-Parking-Spot\\data\\images\\occupied_set2_60m_1.jpg: 1088x1920 33 cars, 1234.1ms\n",
      "image 23/23 c:\\Users\\mathe\\Documents\\Projects\\YOLO-Parking-Spot\\data\\images\\occupied_set2_70m_1.jpg: 1088x1920 35 cars, 1509.0ms\n",
      "Speed: 19.0ms preprocess, 1303.7ms inference, 1.2ms postprocess per image at shape (1, 3, 1920, 1920)\n",
      "Results saved to \u001b[1mc:\\Users\\mathe\\Documents\\Projects\\YOLO-Parking-Spot\\results\\my_yolov8s\u001b[0m\n",
      "18 labels saved to c:\\Users\\mathe\\Documents\\Projects\\YOLO-Parking-Spot\\results\\my_yolov8s\\labels\n"
     ]
    }
   ],
   "source": [
    "# name:\n",
    "#yolov8_detect_predict('yolov8n.pt')\n",
    "\n",
    "# path:\n",
    "#yolov8_detect_predict(f'{repo_path}/models/yolov8n/train/weights/best.pt')\n",
    "\n",
    "# uploaded model:\n",
    "#yolov8_detect_predict('my_yolov8s.pt', conf=0.4)"
   ]
  }
 ],
 "metadata": {
  "kernelspec": {
   "display_name": "env",
   "language": "python",
   "name": "python3"
  },
  "language_info": {
   "codemirror_mode": {
    "name": "ipython",
    "version": 3
   },
   "file_extension": ".py",
   "mimetype": "text/x-python",
   "name": "python",
   "nbconvert_exporter": "python",
   "pygments_lexer": "ipython3",
   "version": "3.10.11"
  },
  "orig_nbformat": 4
 },
 "nbformat": 4,
 "nbformat_minor": 2
}
