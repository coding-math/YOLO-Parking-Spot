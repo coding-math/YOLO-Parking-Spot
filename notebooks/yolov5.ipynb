{
 "cells": [
  {
   "cell_type": "markdown",
   "metadata": {},
   "source": [
    "# YOLOv5 model 🤖\n",
    "<hr>"
   ]
  },
  {
   "cell_type": "markdown",
   "metadata": {},
   "source": [
    "### In this notebook, you can train and make predictions using YOLOv5 on my dataset. 🚗🅿️"
   ]
  },
  {
   "cell_type": "code",
   "execution_count": 9,
   "metadata": {},
   "outputs": [],
   "source": [
    "import sys\n",
    "import os\n",
    "import shutil\n",
    "import torch\n",
    "sys.path.append('../')\n",
    "\n",
    "from utils.functions import is_custom_model\n",
    "\n",
    "repo_path = os.getcwd()\n",
    "repo_path = os.path.dirname(repo_path)\n",
    "\n",
    "yolov5_path = os.path.join(repo_path, 'yolov5')"
   ]
  },
  {
   "cell_type": "code",
   "execution_count": 10,
   "metadata": {},
   "outputs": [
    {
     "name": "stderr",
     "output_type": "stream",
     "text": [
      "fatal: destination path 'c:\\Users\\mathe\\Documents\\Projects\\YOLO-Parking-Spot\\yolov5' already exists and is not an empty directory.\n"
     ]
    },
    {
     "name": "stdout",
     "output_type": "stream",
     "text": [
      "Repo path: c:\\Users\\mathe\\Documents\\Projects\\YOLO-Parking-Spot\n"
     ]
    },
    {
     "name": "stderr",
     "output_type": "stream",
     "text": [
      "Traceback (most recent call last):\n",
      "  File \"c:\\Users\\mathe\\Documents\\Projects\\YOLO-Parking-Spot\\utils\\yolov5-start.py\", line 56, in <module>\n",
      "    main(opt)\n",
      "  File \"c:\\Users\\mathe\\Documents\\Projects\\YOLO-Parking-Spot\\utils\\yolov5-start.py\", line 50, in main\n",
      "    copy_data2yolo(repo_path, yolo_path)\n",
      "  File \"c:\\Users\\mathe\\Documents\\Projects\\YOLO-Parking-Spot\\utils\\yolov5-start.py\", line 14, in copy_data2yolo\n",
      "    shutil.copytree(data_path, os.path.join(yolo_path, 'data/custom-data'))\n",
      "  File \"C:\\Program Files\\WindowsApps\\PythonSoftwareFoundation.Python.3.10_3.10.3056.0_x64__qbz5n2kfra8p0\\lib\\shutil.py\", line 559, in copytree\n",
      "    return _copytree(entries=entries, src=src, dst=dst, symlinks=symlinks,\n",
      "  File \"C:\\Program Files\\WindowsApps\\PythonSoftwareFoundation.Python.3.10_3.10.3056.0_x64__qbz5n2kfra8p0\\lib\\shutil.py\", line 457, in _copytree\n",
      "    os.makedirs(dst, exist_ok=dirs_exist_ok)\n",
      "  File \"C:\\Program Files\\WindowsApps\\PythonSoftwareFoundation.Python.3.10_3.10.3056.0_x64__qbz5n2kfra8p0\\lib\\os.py\", line 225, in makedirs\n",
      "    mkdir(name, mode)\n",
      "FileExistsError: [WinError 183] Não é possível criar um arquivo já existente: 'c:\\\\Users\\\\mathe\\\\Documents\\\\Projects\\\\YOLO-Parking-Spot\\\\yolov5\\\\data/custom-data'\n"
     ]
    }
   ],
   "source": [
    "# notebook git clone yolov5\n",
    "!git clone https://github.com/ultralytics/yolov5.git $yolov5_path\n",
    "\n",
    "# copy data to yolov5/data/custom-data\n",
    "!python $repo_path/utils/yolov5start.py --reporoot $repo_path"
   ]
  },
  {
   "cell_type": "code",
   "execution_count": 11,
   "metadata": {},
   "outputs": [
    {
     "name": "stdout",
     "output_type": "stream",
     "text": [
      "c:\\Users\\mathe\\Documents\\Projects\\YOLO-Parking-Spot\\yolov5\n"
     ]
    },
    {
     "name": "stdout",
     "output_type": "stream",
     "text": [
      "Requirement already satisfied: gitpython>=3.1.30 in c:\\users\\mathe\\documents\\projects\\yolo-parking-spot\\env\\lib\\site-packages (from -r requirements.txt (line 5)) (3.1.31)\n",
      "Requirement already satisfied: matplotlib>=3.3 in c:\\users\\mathe\\documents\\projects\\yolo-parking-spot\\env\\lib\\site-packages (from -r requirements.txt (line 6)) (3.7.1)\n",
      "Requirement already satisfied: numpy>=1.18.5 in c:\\users\\mathe\\documents\\projects\\yolo-parking-spot\\env\\lib\\site-packages (from -r requirements.txt (line 7)) (1.25.0)\n",
      "Requirement already satisfied: opencv-python>=4.1.1 in c:\\users\\mathe\\documents\\projects\\yolo-parking-spot\\env\\lib\\site-packages (from -r requirements.txt (line 8)) (4.7.0.72)\n",
      "Requirement already satisfied: Pillow>=7.1.2 in c:\\users\\mathe\\documents\\projects\\yolo-parking-spot\\env\\lib\\site-packages (from -r requirements.txt (line 9)) (9.5.0)\n",
      "Requirement already satisfied: psutil in c:\\users\\mathe\\documents\\projects\\yolo-parking-spot\\env\\lib\\site-packages (from -r requirements.txt (line 10)) (5.9.5)\n",
      "Requirement already satisfied: PyYAML>=5.3.1 in c:\\users\\mathe\\documents\\projects\\yolo-parking-spot\\env\\lib\\site-packages (from -r requirements.txt (line 11)) (6.0)\n",
      "Requirement already satisfied: requests>=2.23.0 in c:\\users\\mathe\\documents\\projects\\yolo-parking-spot\\env\\lib\\site-packages (from -r requirements.txt (line 12)) (2.31.0)\n",
      "Requirement already satisfied: scipy>=1.4.1 in c:\\users\\mathe\\documents\\projects\\yolo-parking-spot\\env\\lib\\site-packages (from -r requirements.txt (line 13)) (1.10.1)\n",
      "Requirement already satisfied: thop>=0.1.1 in c:\\users\\mathe\\documents\\projects\\yolo-parking-spot\\env\\lib\\site-packages (from -r requirements.txt (line 14)) (0.1.1.post2209072238)\n",
      "Requirement already satisfied: torch>=1.7.0 in c:\\users\\mathe\\documents\\projects\\yolo-parking-spot\\env\\lib\\site-packages (from -r requirements.txt (line 15)) (2.0.1+cu118)\n",
      "Requirement already satisfied: torchvision>=0.8.1 in c:\\users\\mathe\\documents\\projects\\yolo-parking-spot\\env\\lib\\site-packages (from -r requirements.txt (line 16)) (0.15.2)\n",
      "Requirement already satisfied: tqdm>=4.64.0 in c:\\users\\mathe\\documents\\projects\\yolo-parking-spot\\env\\lib\\site-packages (from -r requirements.txt (line 17)) (4.65.0)\n",
      "Requirement already satisfied: ultralytics>=8.0.111 in c:\\users\\mathe\\documents\\projects\\yolo-parking-spot\\env\\lib\\site-packages (from -r requirements.txt (line 18)) (8.0.120)\n",
      "Requirement already satisfied: pandas>=1.1.4 in c:\\users\\mathe\\documents\\projects\\yolo-parking-spot\\env\\lib\\site-packages (from -r requirements.txt (line 27)) (2.0.2)\n",
      "Requirement already satisfied: seaborn>=0.11.0 in c:\\users\\mathe\\documents\\projects\\yolo-parking-spot\\env\\lib\\site-packages (from -r requirements.txt (line 28)) (0.12.2)\n",
      "Requirement already satisfied: setuptools>=65.5.1 in c:\\users\\mathe\\documents\\projects\\yolo-parking-spot\\env\\lib\\site-packages (from -r requirements.txt (line 42)) (68.0.0)\n",
      "Requirement already satisfied: gitdb<5,>=4.0.1 in c:\\users\\mathe\\documents\\projects\\yolo-parking-spot\\env\\lib\\site-packages (from gitpython>=3.1.30->-r requirements.txt (line 5)) (4.0.10)\n",
      "Requirement already satisfied: contourpy>=1.0.1 in c:\\users\\mathe\\documents\\projects\\yolo-parking-spot\\env\\lib\\site-packages (from matplotlib>=3.3->-r requirements.txt (line 6)) (1.1.0)\n",
      "Requirement already satisfied: cycler>=0.10 in c:\\users\\mathe\\documents\\projects\\yolo-parking-spot\\env\\lib\\site-packages (from matplotlib>=3.3->-r requirements.txt (line 6)) (0.11.0)\n",
      "Requirement already satisfied: packaging>=20.0 in c:\\users\\mathe\\documents\\projects\\yolo-parking-spot\\env\\lib\\site-packages (from matplotlib>=3.3->-r requirements.txt (line 6)) (23.1)\n",
      "Requirement already satisfied: pyparsing>=2.3.1 in c:\\users\\mathe\\documents\\projects\\yolo-parking-spot\\env\\lib\\site-packages (from matplotlib>=3.3->-r requirements.txt (line 6)) (3.1.0)\n",
      "Requirement already satisfied: fonttools>=4.22.0 in c:\\users\\mathe\\documents\\projects\\yolo-parking-spot\\env\\lib\\site-packages (from matplotlib>=3.3->-r requirements.txt (line 6)) (4.40.0)\n",
      "Requirement already satisfied: kiwisolver>=1.0.1 in c:\\users\\mathe\\documents\\projects\\yolo-parking-spot\\env\\lib\\site-packages (from matplotlib>=3.3->-r requirements.txt (line 6)) (1.4.4)\n",
      "Requirement already satisfied: python-dateutil>=2.7 in c:\\users\\mathe\\documents\\projects\\yolo-parking-spot\\env\\lib\\site-packages (from matplotlib>=3.3->-r requirements.txt (line 6)) (2.8.2)\n",
      "Requirement already satisfied: charset-normalizer<4,>=2 in c:\\users\\mathe\\documents\\projects\\yolo-parking-spot\\env\\lib\\site-packages (from requests>=2.23.0->-r requirements.txt (line 12)) (3.1.0)\n",
      "Requirement already satisfied: idna<4,>=2.5 in c:\\users\\mathe\\documents\\projects\\yolo-parking-spot\\env\\lib\\site-packages (from requests>=2.23.0->-r requirements.txt (line 12)) (3.4)\n",
      "Requirement already satisfied: certifi>=2017.4.17 in c:\\users\\mathe\\documents\\projects\\yolo-parking-spot\\env\\lib\\site-packages (from requests>=2.23.0->-r requirements.txt (line 12)) (2023.5.7)\n",
      "Requirement already satisfied: urllib3<3,>=1.21.1 in c:\\users\\mathe\\documents\\projects\\yolo-parking-spot\\env\\lib\\site-packages (from requests>=2.23.0->-r requirements.txt (line 12)) (2.0.3)\n",
      "Requirement already satisfied: networkx in c:\\users\\mathe\\documents\\projects\\yolo-parking-spot\\env\\lib\\site-packages (from torch>=1.7.0->-r requirements.txt (line 15)) (3.1)\n",
      "Requirement already satisfied: sympy in c:\\users\\mathe\\documents\\projects\\yolo-parking-spot\\env\\lib\\site-packages (from torch>=1.7.0->-r requirements.txt (line 15)) (1.12)\n",
      "Requirement already satisfied: filelock in c:\\users\\mathe\\documents\\projects\\yolo-parking-spot\\env\\lib\\site-packages (from torch>=1.7.0->-r requirements.txt (line 15)) (3.12.2)\n",
      "Requirement already satisfied: jinja2 in c:\\users\\mathe\\documents\\projects\\yolo-parking-spot\\env\\lib\\site-packages (from torch>=1.7.0->-r requirements.txt (line 15)) (3.1.2)\n",
      "Requirement already satisfied: typing-extensions in c:\\users\\mathe\\documents\\projects\\yolo-parking-spot\\env\\lib\\site-packages (from torch>=1.7.0->-r requirements.txt (line 15)) (4.6.3)\n",
      "Requirement already satisfied: colorama in c:\\users\\mathe\\documents\\projects\\yolo-parking-spot\\env\\lib\\site-packages (from tqdm>=4.64.0->-r requirements.txt (line 17)) (0.4.6)\n",
      "Requirement already satisfied: pytz>=2020.1 in c:\\users\\mathe\\documents\\projects\\yolo-parking-spot\\env\\lib\\site-packages (from pandas>=1.1.4->-r requirements.txt (line 27)) (2023.3)\n",
      "Requirement already satisfied: tzdata>=2022.1 in c:\\users\\mathe\\documents\\projects\\yolo-parking-spot\\env\\lib\\site-packages (from pandas>=1.1.4->-r requirements.txt (line 27)) (2023.3)\n",
      "Requirement already satisfied: smmap<6,>=3.0.1 in c:\\users\\mathe\\documents\\projects\\yolo-parking-spot\\env\\lib\\site-packages (from gitdb<5,>=4.0.1->gitpython>=3.1.30->-r requirements.txt (line 5)) (5.0.0)\n",
      "Requirement already satisfied: six>=1.5 in c:\\users\\mathe\\documents\\projects\\yolo-parking-spot\\env\\lib\\site-packages (from python-dateutil>=2.7->matplotlib>=3.3->-r requirements.txt (line 6)) (1.16.0)\n",
      "Requirement already satisfied: MarkupSafe>=2.0 in c:\\users\\mathe\\documents\\projects\\yolo-parking-spot\\env\\lib\\site-packages (from jinja2->torch>=1.7.0->-r requirements.txt (line 15)) (2.1.3)\n",
      "Requirement already satisfied: mpmath>=0.19 in c:\\users\\mathe\\documents\\projects\\yolo-parking-spot\\env\\lib\\site-packages (from sympy->torch>=1.7.0->-r requirements.txt (line 15)) (1.3.0)\n"
     ]
    },
    {
     "name": "stderr",
     "output_type": "stream",
     "text": [
      "\n",
      "[notice] A new release of pip is available: 23.0.1 -> 23.1.2\n",
      "[notice] To update, run: python.exe -m pip install --upgrade pip\n"
     ]
    }
   ],
   "source": [
    "%cd $yolov5_path\n",
    "!pip install -r requirements.txt"
   ]
  },
  {
   "cell_type": "code",
   "execution_count": 12,
   "metadata": {},
   "outputs": [
    {
     "name": "stdout",
     "output_type": "stream",
     "text": [
      "cuda:0\n"
     ]
    }
   ],
   "source": [
    "if torch.cuda.is_available(): \n",
    "    dev = \"cuda:0\" \n",
    "else: \n",
    "    dev = \"cpu\" \n",
    "device = torch.device(dev) \n",
    "print(device)"
   ]
  },
  {
   "cell_type": "code",
   "execution_count": 13,
   "metadata": {},
   "outputs": [
    {
     "name": "stderr",
     "output_type": "stream",
     "text": [
      "\u001b[34m\u001b[1mtrain: \u001b[0mweights=c:\\Users\\mathe\\Documents\\Projects\\YOLO-Parking-Spot\\models/yolov5n.pt, cfg=, data=c:\\Users\\mathe\\Documents\\Projects\\YOLO-Parking-Spot\\yolov5/data/custom-data/dataset.yaml, hyp=data\\hyps\\hyp.scratch-low.yaml, epochs=1, batch_size=2, imgsz=1920, rect=False, resume=False, nosave=False, noval=False, noautoanchor=False, noplots=False, evolve=None, bucket=, cache=None, image_weights=False, device=cpu, multi_scale=False, single_cls=False, optimizer=SGD, sync_bn=False, workers=8, project=c:\\Users\\mathe\\Documents\\Projects\\YOLO-Parking-Spot/models/yolov5n, name=exp, exist_ok=False, quad=False, cos_lr=False, label_smoothing=0.0, patience=100, freeze=[0], save_period=-1, seed=0, local_rank=-1, entity=None, upload_dataset=False, bbox_interval=-1, artifact_alias=latest\n",
      "\u001b[34m\u001b[1mgithub: \u001b[0mup to date with https://github.com/ultralytics/yolov5 \n",
      "YOLOv5  v7.0-185-g2334aa7 Python-3.10.11 torch-2.0.1+cu118 CPU\n",
      "\n",
      "\u001b[34m\u001b[1mhyperparameters: \u001b[0mlr0=0.01, lrf=0.01, momentum=0.937, weight_decay=0.0005, warmup_epochs=3.0, warmup_momentum=0.8, warmup_bias_lr=0.1, box=0.05, cls=0.5, cls_pw=1.0, obj=1.0, obj_pw=1.0, iou_t=0.2, anchor_t=4.0, fl_gamma=0.0, hsv_h=0.015, hsv_s=0.7, hsv_v=0.4, degrees=0.0, translate=0.1, scale=0.5, shear=0.0, perspective=0.0, flipud=0.0, fliplr=0.5, mosaic=1.0, mixup=0.0, copy_paste=0.0\n",
      "\u001b[34m\u001b[1mComet: \u001b[0mrun 'pip install comet_ml' to automatically track and visualize YOLOv5  runs in Comet\n",
      "\u001b[34m\u001b[1mTensorBoard: \u001b[0mStart with 'tensorboard --logdir c:\\Users\\mathe\\Documents\\Projects\\YOLO-Parking-Spot\\models\\yolov5n', view at http://localhost:6006/\n",
      "Downloading https://github.com/ultralytics/yolov5/releases/download/v7.0/yolov5n.pt to c:\\Users\\mathe\\Documents\\Projects\\YOLO-Parking-Spot\\models\\yolov5n.pt...\n",
      "\n",
      "  0%|          | 0.00/3.87M [00:00<?, ?B/s]\n",
      "  4%|▍         | 168k/3.87M [00:00<00:02, 1.62MB/s]\n",
      "  8%|▊         | 328k/3.87M [00:00<00:02, 1.46MB/s]\n",
      " 16%|█▌        | 616k/3.87M [00:00<00:01, 2.03MB/s]\n",
      " 28%|██▊       | 1.08M/3.87M [00:00<00:00, 3.11MB/s]\n",
      " 55%|█████▌    | 2.13M/3.87M [00:00<00:00, 5.84MB/s]\n",
      " 91%|█████████ | 3.52M/3.87M [00:00<00:00, 8.57MB/s]\n",
      "100%|██████████| 3.87M/3.87M [00:00<00:00, 6.04MB/s]\n",
      "\n",
      "Overriding model.yaml nc=80 with nc=1\n",
      "\n",
      "                 from  n    params  module                                  arguments                     \n",
      "  0                -1  1      1760  models.common.Conv                      [3, 16, 6, 2, 2]              \n",
      "  1                -1  1      4672  models.common.Conv                      [16, 32, 3, 2]                \n",
      "  2                -1  1      4800  models.common.C3                        [32, 32, 1]                   \n",
      "  3                -1  1     18560  models.common.Conv                      [32, 64, 3, 2]                \n",
      "  4                -1  2     29184  models.common.C3                        [64, 64, 2]                   \n",
      "  5                -1  1     73984  models.common.Conv                      [64, 128, 3, 2]               \n",
      "  6                -1  3    156928  models.common.C3                        [128, 128, 3]                 \n",
      "  7                -1  1    295424  models.common.Conv                      [128, 256, 3, 2]              \n",
      "  8                -1  1    296448  models.common.C3                        [256, 256, 1]                 \n",
      "  9                -1  1    164608  models.common.SPPF                      [256, 256, 5]                 \n",
      " 10                -1  1     33024  models.common.Conv                      [256, 128, 1, 1]              \n",
      " 11                -1  1         0  torch.nn.modules.upsampling.Upsample    [None, 2, 'nearest']          \n",
      " 12           [-1, 6]  1         0  models.common.Concat                    [1]                           \n",
      " 13                -1  1     90880  models.common.C3                        [256, 128, 1, False]          \n",
      " 14                -1  1      8320  models.common.Conv                      [128, 64, 1, 1]               \n",
      " 15                -1  1         0  torch.nn.modules.upsampling.Upsample    [None, 2, 'nearest']          \n",
      " 16           [-1, 4]  1         0  models.common.Concat                    [1]                           \n",
      " 17                -1  1     22912  models.common.C3                        [128, 64, 1, False]           \n",
      " 18                -1  1     36992  models.common.Conv                      [64, 64, 3, 2]                \n",
      " 19          [-1, 14]  1         0  models.common.Concat                    [1]                           \n",
      " 20                -1  1     74496  models.common.C3                        [128, 128, 1, False]          \n",
      " 21                -1  1    147712  models.common.Conv                      [128, 128, 3, 2]              \n",
      " 22          [-1, 10]  1         0  models.common.Concat                    [1]                           \n",
      " 23                -1  1    296448  models.common.C3                        [256, 256, 1, False]          \n",
      " 24      [17, 20, 23]  1      8118  models.yolo.Detect                      [1, [[10, 13, 16, 30, 33, 23], [30, 61, 62, 45, 59, 119], [116, 90, 156, 198, 373, 326]], [64, 128, 256]]\n",
      "Model summary: 214 layers, 1765270 parameters, 1765270 gradients, 4.2 GFLOPs\n",
      "\n",
      "Transferred 343/349 items from c:\\Users\\mathe\\Documents\\Projects\\YOLO-Parking-Spot\\models\\yolov5n.pt\n",
      "\u001b[34m\u001b[1moptimizer:\u001b[0m SGD(lr=0.01) with parameter groups 57 weight(decay=0.0), 60 weight(decay=0.0005), 60 bias\n",
      "\n",
      "\u001b[34m\u001b[1mtrain: \u001b[0mScanning C:\\Users\\mathe\\Documents\\Projects\\YOLO-Parking-Spot\\yolov5\\data\\custom-data\\train.cache... 18 images, 4 backgrounds, 0 corrupt: 100%|██████████| 18/18 [00:00<?, ?it/s]\n",
      "\u001b[34m\u001b[1mtrain: \u001b[0mScanning C:\\Users\\mathe\\Documents\\Projects\\YOLO-Parking-Spot\\yolov5\\data\\custom-data\\train.cache... 18 images, 4 backgrounds, 0 corrupt: 100%|██████████| 18/18 [00:00<?, ?it/s]\n",
      "\n",
      "\u001b[34m\u001b[1mval: \u001b[0mScanning C:\\Users\\mathe\\Documents\\Projects\\YOLO-Parking-Spot\\yolov5\\data\\custom-data\\val.cache... 5 images, 2 backgrounds, 0 corrupt: 100%|██████████| 5/5 [00:00<?, ?it/s]\n",
      "\u001b[34m\u001b[1mval: \u001b[0mScanning C:\\Users\\mathe\\Documents\\Projects\\YOLO-Parking-Spot\\yolov5\\data\\custom-data\\val.cache... 5 images, 2 backgrounds, 0 corrupt: 100%|██████████| 5/5 [00:00<?, ?it/s]\n",
      "\n",
      "\u001b[34m\u001b[1mAutoAnchor: \u001b[0m5.29 anchors/target, 1.000 Best Possible Recall (BPR). Current anchors are a good fit to dataset \n",
      "Plotting labels to c:\\Users\\mathe\\Documents\\Projects\\YOLO-Parking-Spot\\models\\yolov5n\\exp\\labels.jpg... \n",
      "Image sizes 1920 train, 1920 val\n",
      "Using 2 dataloader workers\n",
      "Logging results to \u001b[1mc:\\Users\\mathe\\Documents\\Projects\\YOLO-Parking-Spot\\models\\yolov5n\\exp\u001b[0m\n",
      "Starting training for 1 epochs...\n",
      "\n",
      "      Epoch    GPU_mem   box_loss   obj_loss   cls_loss  Instances       Size\n",
      "\n",
      "  0%|          | 0/9 [00:00<?, ?it/s]\n",
      "        0/0         0G     0.1248     0.4869          0        108       1920:   0%|          | 0/9 [00:18<?, ?it/s]\n",
      "        0/0         0G     0.1248     0.4869          0        108       1920:  11%|█         | 1/9 [00:18<02:26, 18.33s/it]\n",
      "        0/0         0G     0.1275     0.4726          0        118       1920:  11%|█         | 1/9 [00:28<02:26, 18.33s/it]\n",
      "        0/0         0G     0.1275     0.4726          0        118       1920:  22%|██▏       | 2/9 [00:28<01:36, 13.72s/it]\n",
      "        0/0         0G     0.1271     0.4787          0        136       1920:  22%|██▏       | 2/9 [00:37<01:36, 13.72s/it]\n",
      "        0/0         0G     0.1271     0.4787          0        136       1920:  33%|███▎      | 3/9 [00:37<01:07, 11.22s/it]\n",
      "        0/0         0G     0.1304     0.4432          0         36       1920:  33%|███▎      | 3/9 [00:45<01:07, 11.22s/it]\n",
      "        0/0         0G     0.1304     0.4432          0         36       1920:  44%|████▍     | 4/9 [00:45<00:49,  9.99s/it]\n",
      "        0/0         0G     0.1304     0.4439          0        127       1920:  44%|████▍     | 4/9 [00:52<00:49,  9.99s/it]\n",
      "        0/0         0G     0.1304     0.4439          0        127       1920:  56%|█████▌    | 5/9 [00:52<00:36,  9.18s/it]\n",
      "        0/0         0G       0.13      0.433          0         76       1920:  56%|█████▌    | 5/9 [01:00<00:36,  9.18s/it]\n",
      "        0/0         0G       0.13      0.433          0         76       1920:  67%|██████▋   | 6/9 [01:00<00:25,  8.66s/it]\n",
      "        0/0         0G     0.1291     0.4309          0         78       1920:  67%|██████▋   | 6/9 [01:08<00:25,  8.66s/it]\n",
      "        0/0         0G     0.1291     0.4309          0         78       1920:  78%|███████▊  | 7/9 [01:08<00:16,  8.37s/it]\n",
      "        0/0         0G     0.1283     0.4148          0         38       1920:  78%|███████▊  | 7/9 [01:16<00:16,  8.37s/it]\n",
      "        0/0         0G     0.1283     0.4148          0         38       1920:  89%|████████▉ | 8/9 [01:16<00:08,  8.21s/it]\n",
      "        0/0         0G     0.1274     0.4136          0         89       1920:  89%|████████▉ | 8/9 [01:24<00:08,  8.21s/it]\n",
      "        0/0         0G     0.1274     0.4136          0         89       1920: 100%|██████████| 9/9 [01:24<00:00,  8.08s/it]\n",
      "        0/0         0G     0.1274     0.4136          0         89       1920: 100%|██████████| 9/9 [01:24<00:00,  9.34s/it]\n",
      "\n",
      "                 Class     Images  Instances          P          R      mAP50   mAP50-95:   0%|          | 0/2 [00:00<?, ?it/s]WARNING  NMS time limit 0.700s exceeded\n",
      "\n",
      "                 Class     Images  Instances          P          R      mAP50   mAP50-95:  50%|█████     | 1/2 [00:04<00:04,  4.89s/it]WARNING  NMS time limit 0.550s exceeded\n",
      "\n",
      "                 Class     Images  Instances          P          R      mAP50   mAP50-95: 100%|██████████| 2/2 [00:07<00:00,  3.40s/it]\n",
      "                 Class     Images  Instances          P          R      mAP50   mAP50-95: 100%|██████████| 2/2 [00:07<00:00,  3.63s/it]\n",
      "                   all          5         21          0          0          0          0\n",
      "\n",
      "1 epochs completed in 0.025 hours.\n",
      "Optimizer stripped from c:\\Users\\mathe\\Documents\\Projects\\YOLO-Parking-Spot\\models\\yolov5n\\exp\\weights\\last.pt, 4.8MB\n",
      "Optimizer stripped from c:\\Users\\mathe\\Documents\\Projects\\YOLO-Parking-Spot\\models\\yolov5n\\exp\\weights\\best.pt, 4.8MB\n",
      "\n",
      "Validating c:\\Users\\mathe\\Documents\\Projects\\YOLO-Parking-Spot\\models\\yolov5n\\exp\\weights\\best.pt...\n",
      "Fusing layers... \n",
      "Model summary: 157 layers, 1760518 parameters, 0 gradients, 4.1 GFLOPs\n",
      "\n",
      "                 Class     Images  Instances          P          R      mAP50   mAP50-95:   0%|          | 0/2 [00:00<?, ?it/s]WARNING  NMS time limit 0.700s exceeded\n",
      "\n",
      "                 Class     Images  Instances          P          R      mAP50   mAP50-95:  50%|█████     | 1/2 [00:04<00:04,  4.50s/it]WARNING  NMS time limit 0.550s exceeded\n",
      "\n",
      "                 Class     Images  Instances          P          R      mAP50   mAP50-95: 100%|██████████| 2/2 [00:07<00:00,  3.47s/it]\n",
      "                 Class     Images  Instances          P          R      mAP50   mAP50-95: 100%|██████████| 2/2 [00:07<00:00,  3.63s/it]\n",
      "                   all          5         21          0          0          0          0\n",
      "Results saved to \u001b[1mc:\\Users\\mathe\\Documents\\Projects\\YOLO-Parking-Spot\\models\\yolov5n\\exp\u001b[0m\n"
     ]
    }
   ],
   "source": [
    "def yolov5_train(model, device=\"cpu\"):\n",
    "    model, model_path = is_custom_model(model, \"5\")\n",
    "\n",
    "    !python train.py \\\n",
    "        --weights \"{model_path}\" \\\n",
    "        --img 1920 \\\n",
    "        --data \"{yolov5_path}/data/custom-data/dataset.yaml\" \\\n",
    "        --epochs 200 \\\n",
    "        --batch 2 \\\n",
    "        --project \"{repo_path}/models/{model[:-3]}\" \\\n",
    "        --device \"{device}\"\n",
    "\n",
    "# if you want to train, uncomment the line below\n",
    "yolov5_train('yolov5n')"
   ]
  },
  {
   "cell_type": "code",
   "execution_count": 14,
   "metadata": {},
   "outputs": [
    {
     "name": "stderr",
     "output_type": "stream",
     "text": [
      "\u001b[34m\u001b[1mdetect: \u001b[0mweights=['c:\\\\Users\\\\mathe\\\\Documents\\\\Projects\\\\YOLO-Parking-Spot\\\\models/my_yolov5n.pt'], source=c:\\Users\\mathe\\Documents\\Projects\\YOLO-Parking-Spot/data/images, data=data\\coco128.yaml, imgsz=[1920, 1920], conf_thres=0.6, iou_thres=0.45, max_det=1000, device=cpu, view_img=False, save_txt=True, save_conf=False, save_crop=False, nosave=True, classes=None, agnostic_nms=False, augment=False, visualize=False, update=False, project=c:\\Users\\mathe\\Documents\\Projects\\YOLO-Parking-Spot/results, name=my_yolov5n, exist_ok=False, line_thickness=3, hide_labels=False, hide_conf=False, half=False, dnn=False, vid_stride=1\n",
      "YOLOv5  v7.0-185-g2334aa7 Python-3.10.11 torch-2.0.1+cu118 CPU\n",
      "\n",
      "Fusing layers... \n",
      "Model summary: 157 layers, 1760518 parameters, 0 gradients, 4.1 GFLOPs\n",
      "image 1/23 C:\\Users\\mathe\\Documents\\Projects\\YOLO-Parking-Spot\\data\\images\\empty_set1_60m_1.jpg: 1088x1920 1 car, 583.7ms\n",
      "image 2/23 C:\\Users\\mathe\\Documents\\Projects\\YOLO-Parking-Spot\\data\\images\\empty_set1_60m_2.jpg: 1088x1920 1 car, 568.4ms\n",
      "image 3/23 C:\\Users\\mathe\\Documents\\Projects\\YOLO-Parking-Spot\\data\\images\\empty_set1_65m_1.jpg: 1088x1920 (no detections), 591.0ms\n",
      "image 4/23 C:\\Users\\mathe\\Documents\\Projects\\YOLO-Parking-Spot\\data\\images\\empty_set1_70m_2.jpg: 1088x1920 1 car, 567.5ms\n",
      "image 5/23 C:\\Users\\mathe\\Documents\\Projects\\YOLO-Parking-Spot\\data\\images\\empty_set1_75m_1.jpg: 1088x1920 (no detections), 568.0ms\n",
      "image 6/23 C:\\Users\\mathe\\Documents\\Projects\\YOLO-Parking-Spot\\data\\images\\empty_set2_30m_2.jpg: 1088x1920 (no detections), 565.1ms\n",
      "image 7/23 C:\\Users\\mathe\\Documents\\Projects\\YOLO-Parking-Spot\\data\\images\\empty_set2_30m_3.jpg: 1088x1920 (no detections), 560.0ms\n",
      "image 8/23 C:\\Users\\mathe\\Documents\\Projects\\YOLO-Parking-Spot\\data\\images\\empty_set2_70m_1.jpg: 1088x1920 (no detections), 558.4ms\n",
      "image 9/23 C:\\Users\\mathe\\Documents\\Projects\\YOLO-Parking-Spot\\data\\images\\empty_set2_70m_2.jpg: 1088x1920 (no detections), 573.3ms\n",
      "image 10/23 C:\\Users\\mathe\\Documents\\Projects\\YOLO-Parking-Spot\\data\\images\\occupied_set1_30m_1.jpg: 1088x1920 16 cars, 612.5ms\n",
      "image 11/23 C:\\Users\\mathe\\Documents\\Projects\\YOLO-Parking-Spot\\data\\images\\occupied_set1_30m_2.jpg: 1088x1920 16 cars, 709.7ms\n",
      "image 12/23 C:\\Users\\mathe\\Documents\\Projects\\YOLO-Parking-Spot\\data\\images\\occupied_set1_40m_1.jpg: 1088x1920 44 cars, 580.1ms\n",
      "image 13/23 C:\\Users\\mathe\\Documents\\Projects\\YOLO-Parking-Spot\\data\\images\\occupied_set1_50m_1.jpg: 1088x1920 51 cars, 602.0ms\n",
      "image 14/23 C:\\Users\\mathe\\Documents\\Projects\\YOLO-Parking-Spot\\data\\images\\occupied_set1_50m_2.jpg: 1088x1920 51 cars, 616.7ms\n",
      "image 15/23 C:\\Users\\mathe\\Documents\\Projects\\YOLO-Parking-Spot\\data\\images\\occupied_set1_60m_1.jpg: 1088x1920 63 cars, 540.0ms\n",
      "image 16/23 C:\\Users\\mathe\\Documents\\Projects\\YOLO-Parking-Spot\\data\\images\\occupied_set1_70m_1.jpg: 1088x1920 70 cars, 654.8ms\n",
      "image 17/23 C:\\Users\\mathe\\Documents\\Projects\\YOLO-Parking-Spot\\data\\images\\occupied_set1_70m_2.jpg: 1088x1920 68 cars, 583.7ms\n",
      "image 18/23 C:\\Users\\mathe\\Documents\\Projects\\YOLO-Parking-Spot\\data\\images\\occupied_set2_30m_1.jpg: 1088x1920 14 cars, 577.3ms\n",
      "image 19/23 C:\\Users\\mathe\\Documents\\Projects\\YOLO-Parking-Spot\\data\\images\\occupied_set2_30m_2.jpg: 1088x1920 14 cars, 605.2ms\n",
      "image 20/23 C:\\Users\\mathe\\Documents\\Projects\\YOLO-Parking-Spot\\data\\images\\occupied_set2_40m_1.jpg: 1088x1920 19 cars, 577.4ms\n",
      "image 21/23 C:\\Users\\mathe\\Documents\\Projects\\YOLO-Parking-Spot\\data\\images\\occupied_set2_50m_1.jpg: 1088x1920 25 cars, 593.2ms\n",
      "image 22/23 C:\\Users\\mathe\\Documents\\Projects\\YOLO-Parking-Spot\\data\\images\\occupied_set2_60m_1.jpg: 1088x1920 35 cars, 613.2ms\n",
      "image 23/23 C:\\Users\\mathe\\Documents\\Projects\\YOLO-Parking-Spot\\data\\images\\occupied_set2_70m_1.jpg: 1088x1920 32 cars, 575.2ms\n",
      "Speed: 9.8ms pre-process, 590.3ms inference, 2.3ms NMS per image at shape (1, 3, 1920, 1920)\n",
      "Results saved to \u001b[1mc:\\Users\\mathe\\Documents\\Projects\\YOLO-Parking-Spot\\results\\my_yolov5n\u001b[0m\n",
      "17 labels saved to c:\\Users\\mathe\\Documents\\Projects\\YOLO-Parking-Spot\\results\\my_yolov5n\\labels\n"
     ]
    }
   ],
   "source": [
    "def yolov5_detect(model, device=\"cpu\"):\n",
    "    model, model_path = is_custom_model(model, \"5\")\n",
    "    \n",
    "    # Remove folder if it exists\n",
    "    if os.path.exists(os.path.join(repo_path, f'results/{model[:-3]}/')):\n",
    "        shutil.rmtree(os.path.join(repo_path, f'results/{model[:-3]}/'))\n",
    "    \n",
    "    !python detect.py \\\n",
    "        --img 1920 \\\n",
    "        --source \"{repo_path}/data/images\" \\\n",
    "        --weights \"{model_path}\" \\\n",
    "        --conf 0.6 \\\n",
    "        --nosave \\\n",
    "        --save-txt \\\n",
    "        --project \"{repo_path}/results\" \\\n",
    "        --name \"{model[:-3]}\" \\\n",
    "        --device \"{device}\"\n",
    "\n",
    "# if you want to detect, uncomment the line below\n",
    "yolov5_detect('my_yolov5n')"
   ]
  }
 ],
 "metadata": {
  "kernelspec": {
   "display_name": "env",
   "language": "python",
   "name": "python3"
  },
  "language_info": {
   "codemirror_mode": {
    "name": "ipython",
    "version": 3
   },
   "file_extension": ".py",
   "mimetype": "text/x-python",
   "name": "python",
   "nbconvert_exporter": "python",
   "pygments_lexer": "ipython3",
   "version": "3.10.11"
  },
  "orig_nbformat": 4
 },
 "nbformat": 4,
 "nbformat_minor": 2
}
